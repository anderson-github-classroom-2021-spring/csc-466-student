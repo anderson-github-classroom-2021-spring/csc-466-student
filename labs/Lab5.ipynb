{
 "cells": [
  {
   "cell_type": "markdown",
   "metadata": {},
   "source": [
    "# Lab 5\n",
    "\n",
    "## Ensemble Learning\n",
    "\n",
    "For this lab, we will implement a bagging and boosting. Due to the increased simplicity when implementing regression with boosted trees over classification, we will stick to regression for this lab. Classification is a straightforward extension.\n",
    "\n",
    "There are two main exercises and questions in the lab. \n",
    "\n",
    "**Note:** Exercises can be autograded and count towards your lab and assignment score. Problems are graded for participation."
   ]
  },
  {
   "cell_type": "code",
   "execution_count": 1,
   "metadata": {},
   "outputs": [],
   "source": [
    "from pathlib import Path\n",
    "home = str(Path.home()) # all other paths are relative to this path. change to something else if this is not the case on your system"
   ]
  },
  {
   "cell_type": "code",
   "execution_count": 2,
   "metadata": {},
   "outputs": [],
   "source": [
    "%load_ext autoreload\n",
    "%autoreload 2\n",
    "\n",
    "# make sure your run the cell above before running this\n",
    "import Lab5_helper"
   ]
  },
  {
   "cell_type": "markdown",
   "metadata": {},
   "source": [
    "For developing this lab, we can our three gene dataset. We will try to predict the value of ESR1 from the other two genes."
   ]
  },
  {
   "cell_type": "code",
   "execution_count": 3,
   "metadata": {},
   "outputs": [
    {
     "data": {
      "text/html": [
       "<div>\n",
       "<style scoped>\n",
       "    .dataframe tbody tr th:only-of-type {\n",
       "        vertical-align: middle;\n",
       "    }\n",
       "\n",
       "    .dataframe tbody tr th {\n",
       "        vertical-align: top;\n",
       "    }\n",
       "\n",
       "    .dataframe thead th {\n",
       "        text-align: right;\n",
       "    }\n",
       "</style>\n",
       "<table border=\"1\" class=\"dataframe\">\n",
       "  <thead>\n",
       "    <tr style=\"text-align: right;\">\n",
       "      <th></th>\n",
       "      <th>ESR1</th>\n",
       "      <th>AURKA</th>\n",
       "      <th>ERBB2</th>\n",
       "      <th>Subtype</th>\n",
       "    </tr>\n",
       "  </thead>\n",
       "  <tbody>\n",
       "    <tr>\n",
       "      <th>0</th>\n",
       "      <td>0.804501</td>\n",
       "      <td>0.264356</td>\n",
       "      <td>6.941677</td>\n",
       "      <td>LumA</td>\n",
       "    </tr>\n",
       "    <tr>\n",
       "      <th>1</th>\n",
       "      <td>0.163597</td>\n",
       "      <td>0.589052</td>\n",
       "      <td>6.551394</td>\n",
       "      <td>Basal</td>\n",
       "    </tr>\n",
       "    <tr>\n",
       "      <th>2</th>\n",
       "      <td>0.569347</td>\n",
       "      <td>0.189531</td>\n",
       "      <td>7.056530</td>\n",
       "      <td>LumA</td>\n",
       "    </tr>\n",
       "    <tr>\n",
       "      <th>3</th>\n",
       "      <td>0.847584</td>\n",
       "      <td>0.264849</td>\n",
       "      <td>7.028625</td>\n",
       "      <td>LumB</td>\n",
       "    </tr>\n",
       "    <tr>\n",
       "      <th>4</th>\n",
       "      <td>0.442474</td>\n",
       "      <td>0.526040</td>\n",
       "      <td>8.783604</td>\n",
       "      <td>LumB</td>\n",
       "    </tr>\n",
       "  </tbody>\n",
       "</table>\n",
       "</div>"
      ],
      "text/plain": [
       "       ESR1     AURKA     ERBB2 Subtype\n",
       "0  0.804501  0.264356  6.941677    LumA\n",
       "1  0.163597  0.589052  6.551394   Basal\n",
       "2  0.569347  0.189531  7.056530    LumA\n",
       "3  0.847584  0.264849  7.028625    LumB\n",
       "4  0.442474  0.526040  8.783604    LumB"
      ]
     },
     "execution_count": 3,
     "metadata": {},
     "output_type": "execute_result"
    }
   ],
   "source": [
    "import pandas as pd\n",
    "import numpy as np\n",
    "\n",
    "df = pd.read_csv(\n",
    "    f\"{home}/csc-466-student/data/breast_cancer_three_gene.csv\",index_col=0\n",
    ")\n",
    "df.head()"
   ]
  },
  {
   "cell_type": "markdown",
   "metadata": {},
   "source": [
    "We need to do some simple preprocessing before our neural network can deal with this data. "
   ]
  },
  {
   "cell_type": "code",
   "execution_count": 4,
   "metadata": {},
   "outputs": [
    {
     "data": {
      "text/html": [
       "<div>\n",
       "<style scoped>\n",
       "    .dataframe tbody tr th:only-of-type {\n",
       "        vertical-align: middle;\n",
       "    }\n",
       "\n",
       "    .dataframe tbody tr th {\n",
       "        vertical-align: top;\n",
       "    }\n",
       "\n",
       "    .dataframe thead th {\n",
       "        text-align: right;\n",
       "    }\n",
       "</style>\n",
       "<table border=\"1\" class=\"dataframe\">\n",
       "  <thead>\n",
       "    <tr style=\"text-align: right;\">\n",
       "      <th></th>\n",
       "      <th>ESR1</th>\n",
       "      <th>AURKA</th>\n",
       "      <th>ERBB2</th>\n",
       "    </tr>\n",
       "  </thead>\n",
       "  <tbody>\n",
       "    <tr>\n",
       "      <th>0</th>\n",
       "      <td>0.804501</td>\n",
       "      <td>0.264356</td>\n",
       "      <td>6.941677</td>\n",
       "    </tr>\n",
       "    <tr>\n",
       "      <th>1</th>\n",
       "      <td>0.163597</td>\n",
       "      <td>0.589052</td>\n",
       "      <td>6.551394</td>\n",
       "    </tr>\n",
       "    <tr>\n",
       "      <th>2</th>\n",
       "      <td>0.569347</td>\n",
       "      <td>0.189531</td>\n",
       "      <td>7.056530</td>\n",
       "    </tr>\n",
       "    <tr>\n",
       "      <th>3</th>\n",
       "      <td>0.847584</td>\n",
       "      <td>0.264849</td>\n",
       "      <td>7.028625</td>\n",
       "    </tr>\n",
       "    <tr>\n",
       "      <th>4</th>\n",
       "      <td>0.442474</td>\n",
       "      <td>0.526040</td>\n",
       "      <td>8.783604</td>\n",
       "    </tr>\n",
       "    <tr>\n",
       "      <th>...</th>\n",
       "      <td>...</td>\n",
       "      <td>...</td>\n",
       "      <td>...</td>\n",
       "    </tr>\n",
       "    <tr>\n",
       "      <th>2128</th>\n",
       "      <td>0.635455</td>\n",
       "      <td>0.143977</td>\n",
       "      <td>7.159443</td>\n",
       "    </tr>\n",
       "    <tr>\n",
       "      <th>2129</th>\n",
       "      <td>0.632849</td>\n",
       "      <td>0.258203</td>\n",
       "      <td>7.145417</td>\n",
       "    </tr>\n",
       "    <tr>\n",
       "      <th>2130</th>\n",
       "      <td>0.662344</td>\n",
       "      <td>0.243027</td>\n",
       "      <td>6.936228</td>\n",
       "    </tr>\n",
       "    <tr>\n",
       "      <th>2131</th>\n",
       "      <td>0.086119</td>\n",
       "      <td>0.479997</td>\n",
       "      <td>7.671082</td>\n",
       "    </tr>\n",
       "    <tr>\n",
       "      <th>2132</th>\n",
       "      <td>0.684853</td>\n",
       "      <td>0.295967</td>\n",
       "      <td>7.045126</td>\n",
       "    </tr>\n",
       "  </tbody>\n",
       "</table>\n",
       "<p>2133 rows × 3 columns</p>\n",
       "</div>"
      ],
      "text/plain": [
       "          ESR1     AURKA     ERBB2\n",
       "0     0.804501  0.264356  6.941677\n",
       "1     0.163597  0.589052  6.551394\n",
       "2     0.569347  0.189531  7.056530\n",
       "3     0.847584  0.264849  7.028625\n",
       "4     0.442474  0.526040  8.783604\n",
       "...        ...       ...       ...\n",
       "2128  0.635455  0.143977  7.159443\n",
       "2129  0.632849  0.258203  7.145417\n",
       "2130  0.662344  0.243027  6.936228\n",
       "2131  0.086119  0.479997  7.671082\n",
       "2132  0.684853  0.295967  7.045126\n",
       "\n",
       "[2133 rows x 3 columns]"
      ]
     },
     "execution_count": 4,
     "metadata": {},
     "output_type": "execute_result"
    }
   ],
   "source": [
    "X = df.drop('Subtype',axis=1)#.dropna()\n",
    "X"
   ]
  },
  {
   "cell_type": "code",
   "execution_count": 5,
   "metadata": {},
   "outputs": [
    {
     "data": {
      "text/html": [
       "<div>\n",
       "<style scoped>\n",
       "    .dataframe tbody tr th:only-of-type {\n",
       "        vertical-align: middle;\n",
       "    }\n",
       "\n",
       "    .dataframe tbody tr th {\n",
       "        vertical-align: top;\n",
       "    }\n",
       "\n",
       "    .dataframe thead th {\n",
       "        text-align: right;\n",
       "    }\n",
       "</style>\n",
       "<table border=\"1\" class=\"dataframe\">\n",
       "  <thead>\n",
       "    <tr style=\"text-align: right;\">\n",
       "      <th></th>\n",
       "      <th>AURKA</th>\n",
       "      <th>ERBB2</th>\n",
       "    </tr>\n",
       "  </thead>\n",
       "  <tbody>\n",
       "    <tr>\n",
       "      <th>0</th>\n",
       "      <td>0.264356</td>\n",
       "      <td>6.941677</td>\n",
       "    </tr>\n",
       "    <tr>\n",
       "      <th>1</th>\n",
       "      <td>0.589052</td>\n",
       "      <td>6.551394</td>\n",
       "    </tr>\n",
       "    <tr>\n",
       "      <th>2</th>\n",
       "      <td>0.189531</td>\n",
       "      <td>7.056530</td>\n",
       "    </tr>\n",
       "    <tr>\n",
       "      <th>3</th>\n",
       "      <td>0.264849</td>\n",
       "      <td>7.028625</td>\n",
       "    </tr>\n",
       "    <tr>\n",
       "      <th>4</th>\n",
       "      <td>0.526040</td>\n",
       "      <td>8.783604</td>\n",
       "    </tr>\n",
       "    <tr>\n",
       "      <th>...</th>\n",
       "      <td>...</td>\n",
       "      <td>...</td>\n",
       "    </tr>\n",
       "    <tr>\n",
       "      <th>2128</th>\n",
       "      <td>0.143977</td>\n",
       "      <td>7.159443</td>\n",
       "    </tr>\n",
       "    <tr>\n",
       "      <th>2129</th>\n",
       "      <td>0.258203</td>\n",
       "      <td>7.145417</td>\n",
       "    </tr>\n",
       "    <tr>\n",
       "      <th>2130</th>\n",
       "      <td>0.243027</td>\n",
       "      <td>6.936228</td>\n",
       "    </tr>\n",
       "    <tr>\n",
       "      <th>2131</th>\n",
       "      <td>0.479997</td>\n",
       "      <td>7.671082</td>\n",
       "    </tr>\n",
       "    <tr>\n",
       "      <th>2132</th>\n",
       "      <td>0.295967</td>\n",
       "      <td>7.045126</td>\n",
       "    </tr>\n",
       "  </tbody>\n",
       "</table>\n",
       "<p>2133 rows × 2 columns</p>\n",
       "</div>"
      ],
      "text/plain": [
       "         AURKA     ERBB2\n",
       "0     0.264356  6.941677\n",
       "1     0.589052  6.551394\n",
       "2     0.189531  7.056530\n",
       "3     0.264849  7.028625\n",
       "4     0.526040  8.783604\n",
       "...        ...       ...\n",
       "2128  0.143977  7.159443\n",
       "2129  0.258203  7.145417\n",
       "2130  0.243027  6.936228\n",
       "2131  0.479997  7.671082\n",
       "2132  0.295967  7.045126\n",
       "\n",
       "[2133 rows x 2 columns]"
      ]
     },
     "execution_count": 5,
     "metadata": {},
     "output_type": "execute_result"
    }
   ],
   "source": [
    "t = X['ESR1']\n",
    "X2 = pd.get_dummies(X.drop('ESR1',axis=1))\n",
    "X2"
   ]
  },
  {
   "cell_type": "markdown",
   "metadata": {},
   "source": [
    "#### Exercise 1\n",
    "Implement bagging using regression trees as the (weak) individual learner. You should be able to reach a similar accuray to my implementation."
   ]
  },
  {
   "cell_type": "code",
   "execution_count": 6,
   "metadata": {},
   "outputs": [
    {
     "name": "stdout",
     "output_type": "stream",
     "text": [
      "Our prediction for Fare is off by 0.16748799642382256\n"
     ]
    }
   ],
   "source": [
    "import numpy as np\n",
    "learner = Lab5_helper.get_learner(X2,t) # Here is how to get a single weak learner to help build your ensembles\n",
    "y = learner.predict(X2) # As usual, here is how to get predictions\n",
    "RMSE = np.sqrt(((y-t)**2).sum()/len(t)) # Here is a sample calculation of the root mean squared error\n",
    "print('Our prediction for Fare is off by',RMSE)"
   ]
  },
  {
   "cell_type": "code",
   "execution_count": 7,
   "metadata": {},
   "outputs": [
    {
     "data": {
      "text/plain": [
       "0.22848132398401189"
      ]
     },
     "execution_count": 7,
     "metadata": {},
     "output_type": "execute_result"
    }
   ],
   "source": [
    "from sklearn.model_selection import train_test_split\n",
    "\n",
    "ntrials = 50\n",
    "# when you are debugging you will want to lower this number\n",
    "RMSEs = []\n",
    "for trial in range(ntrials):\n",
    "    X_train, X_test, t_train, t_test = train_test_split(X2, t, test_size=0.25,random_state=trial)\n",
    "    trees = Lab5_helper.make_trees(X_train,t_train,ntrees=100)\n",
    "    y = Lab5_helper.make_prediction(trees,X_test)\n",
    "    RMSEs.append(np.sqrt(((y-t_test)**2).sum()/len(t_test)))\n",
    "np.median(RMSEs)"
   ]
  },
  {
   "cell_type": "markdown",
   "metadata": {},
   "source": [
    "**Problem 1:** How do we know this is behaving as expected when there is so much randomness? This is a very similar to a question about how can we compare two algorithms? Let's examine this by changing the number of trees in bagging between 25 and 100. Then we will see if we can detect a difference.\n",
    "\n",
    "**Your answer here**"
   ]
  },
  {
   "cell_type": "code",
   "execution_count": 8,
   "metadata": {},
   "outputs": [],
   "source": [
    "results = pd.DataFrame({'RMSE':RMSEs,'Method':'Bagging (ntrees=100)'})\n",
    "RMSEs = []\n",
    "for trial in range(ntrials):\n",
    "    X_train, X_test, t_train, t_test = train_test_split(X2, t, test_size=0.25,random_state=trial)\n",
    "    trees = Lab5_helper.make_trees(X_train,t_train,ntrees=25)\n",
    "    y = Lab5_helper.make_prediction(trees,X_test)\n",
    "    RMSEs.append(np.sqrt(((y-t_test)**2).sum()/len(t_test)))\n",
    "results2 = pd.DataFrame({'RMSE':RMSEs,'Method':'Bagging (ntrees=25)'})\n",
    "results = results.append(results2)"
   ]
  },
  {
   "cell_type": "code",
   "execution_count": 9,
   "metadata": {},
   "outputs": [
    {
     "data": {
      "text/plain": [
       "Method\n",
       "Bagging (ntrees=100)    0.228481\n",
       "Bagging (ntrees=25)     0.229323\n",
       "Name: RMSE, dtype: float64"
      ]
     },
     "execution_count": 9,
     "metadata": {},
     "output_type": "execute_result"
    }
   ],
   "source": [
    "results.groupby('Method')['RMSE'].median()"
   ]
  },
  {
   "cell_type": "code",
   "execution_count": 10,
   "metadata": {},
   "outputs": [
    {
     "data": {
      "text/plain": [
       "Method\n",
       "Bagging (ntrees=100)    0.228471\n",
       "Bagging (ntrees=25)     0.229884\n",
       "Name: RMSE, dtype: float64"
      ]
     },
     "execution_count": 10,
     "metadata": {},
     "output_type": "execute_result"
    }
   ],
   "source": [
    "results.groupby('Method')['RMSE'].mean()"
   ]
  },
  {
   "cell_type": "markdown",
   "metadata": {},
   "source": [
    "This looks promising! But what do the statistics tell us?"
   ]
  },
  {
   "cell_type": "code",
   "execution_count": 11,
   "metadata": {},
   "outputs": [
    {
     "data": {
      "text/html": [
       "\n",
       "<div id=\"altair-viz-b680bddc98c04c6782bf779e7c69b4b1\"></div>\n",
       "<script type=\"text/javascript\">\n",
       "  (function(spec, embedOpt){\n",
       "    let outputDiv = document.currentScript.previousElementSibling;\n",
       "    if (outputDiv.id !== \"altair-viz-b680bddc98c04c6782bf779e7c69b4b1\") {\n",
       "      outputDiv = document.getElementById(\"altair-viz-b680bddc98c04c6782bf779e7c69b4b1\");\n",
       "    }\n",
       "    const paths = {\n",
       "      \"vega\": \"https://cdn.jsdelivr.net/npm//vega@5?noext\",\n",
       "      \"vega-lib\": \"https://cdn.jsdelivr.net/npm//vega-lib?noext\",\n",
       "      \"vega-lite\": \"https://cdn.jsdelivr.net/npm//vega-lite@4.8.1?noext\",\n",
       "      \"vega-embed\": \"https://cdn.jsdelivr.net/npm//vega-embed@6?noext\",\n",
       "    };\n",
       "\n",
       "    function loadScript(lib) {\n",
       "      return new Promise(function(resolve, reject) {\n",
       "        var s = document.createElement('script');\n",
       "        s.src = paths[lib];\n",
       "        s.async = true;\n",
       "        s.onload = () => resolve(paths[lib]);\n",
       "        s.onerror = () => reject(`Error loading script: ${paths[lib]}`);\n",
       "        document.getElementsByTagName(\"head\")[0].appendChild(s);\n",
       "      });\n",
       "    }\n",
       "\n",
       "    function showError(err) {\n",
       "      outputDiv.innerHTML = `<div class=\"error\" style=\"color:red;\">${err}</div>`;\n",
       "      throw err;\n",
       "    }\n",
       "\n",
       "    function displayChart(vegaEmbed) {\n",
       "      vegaEmbed(outputDiv, spec, embedOpt)\n",
       "        .catch(err => showError(`Javascript Error: ${err.message}<br>This usually means there's a typo in your chart specification. See the javascript console for the full traceback.`));\n",
       "    }\n",
       "\n",
       "    if(typeof define === \"function\" && define.amd) {\n",
       "      requirejs.config({paths});\n",
       "      require([\"vega-embed\"], displayChart, err => showError(`Error loading script: ${err.message}`));\n",
       "    } else if (typeof vegaEmbed === \"function\") {\n",
       "      displayChart(vegaEmbed);\n",
       "    } else {\n",
       "      loadScript(\"vega\")\n",
       "        .then(() => loadScript(\"vega-lite\"))\n",
       "        .then(() => loadScript(\"vega-embed\"))\n",
       "        .catch(showError)\n",
       "        .then(() => displayChart(vegaEmbed));\n",
       "    }\n",
       "  })({\"config\": {\"view\": {\"continuousWidth\": 400, \"continuousHeight\": 300}}, \"data\": {\"name\": \"data-e294d3d81bebcd49459e20878f49eefc\"}, \"mark\": \"boxplot\", \"encoding\": {\"x\": {\"type\": \"nominal\", \"field\": \"Method\"}, \"y\": {\"type\": \"quantitative\", \"field\": \"RMSE\"}}, \"width\": 300, \"$schema\": \"https://vega.github.io/schema/vega-lite/v4.8.1.json\", \"datasets\": {\"data-e294d3d81bebcd49459e20878f49eefc\": [{\"RMSE\": 0.21656962688360817, \"Method\": \"Bagging (ntrees=100)\"}, {\"RMSE\": 0.23127934137717623, \"Method\": \"Bagging (ntrees=100)\"}, {\"RMSE\": 0.22841762742437624, \"Method\": \"Bagging (ntrees=100)\"}, {\"RMSE\": 0.2235037633096935, \"Method\": \"Bagging (ntrees=100)\"}, {\"RMSE\": 0.22394552477666482, \"Method\": \"Bagging (ntrees=100)\"}, {\"RMSE\": 0.22860660306459782, \"Method\": \"Bagging (ntrees=100)\"}, {\"RMSE\": 0.23800565600783657, \"Method\": \"Bagging (ntrees=100)\"}, {\"RMSE\": 0.2257110361511335, \"Method\": \"Bagging (ntrees=100)\"}, {\"RMSE\": 0.22876392677004864, \"Method\": \"Bagging (ntrees=100)\"}, {\"RMSE\": 0.23583159160674524, \"Method\": \"Bagging (ntrees=100)\"}, {\"RMSE\": 0.23857166009097824, \"Method\": \"Bagging (ntrees=100)\"}, {\"RMSE\": 0.22487256676360973, \"Method\": \"Bagging (ntrees=100)\"}, {\"RMSE\": 0.2285450205436475, \"Method\": \"Bagging (ntrees=100)\"}, {\"RMSE\": 0.2300367298784312, \"Method\": \"Bagging (ntrees=100)\"}, {\"RMSE\": 0.22167131303679186, \"Method\": \"Bagging (ntrees=100)\"}, {\"RMSE\": 0.22727699035670668, \"Method\": \"Bagging (ntrees=100)\"}, {\"RMSE\": 0.23438117708349018, \"Method\": \"Bagging (ntrees=100)\"}, {\"RMSE\": 0.22190322132777668, \"Method\": \"Bagging (ntrees=100)\"}, {\"RMSE\": 0.2271456748498114, \"Method\": \"Bagging (ntrees=100)\"}, {\"RMSE\": 0.21992688400153085, \"Method\": \"Bagging (ntrees=100)\"}, {\"RMSE\": 0.22409148005879467, \"Method\": \"Bagging (ntrees=100)\"}, {\"RMSE\": 0.22889756071240108, \"Method\": \"Bagging (ntrees=100)\"}, {\"RMSE\": 0.23212779434968095, \"Method\": \"Bagging (ntrees=100)\"}, {\"RMSE\": 0.2283524723807111, \"Method\": \"Bagging (ntrees=100)\"}, {\"RMSE\": 0.22992430400088432, \"Method\": \"Bagging (ntrees=100)\"}, {\"RMSE\": 0.23488683395078372, \"Method\": \"Bagging (ntrees=100)\"}, {\"RMSE\": 0.2220531063002819, \"Method\": \"Bagging (ntrees=100)\"}, {\"RMSE\": 0.2312549907278984, \"Method\": \"Bagging (ntrees=100)\"}, {\"RMSE\": 0.23190832265095201, \"Method\": \"Bagging (ntrees=100)\"}, {\"RMSE\": 0.23623650184654885, \"Method\": \"Bagging (ntrees=100)\"}, {\"RMSE\": 0.23426675351204101, \"Method\": \"Bagging (ntrees=100)\"}, {\"RMSE\": 0.22486565044842582, \"Method\": \"Bagging (ntrees=100)\"}, {\"RMSE\": 0.22216474732045796, \"Method\": \"Bagging (ntrees=100)\"}, {\"RMSE\": 0.2273946425594776, \"Method\": \"Bagging (ntrees=100)\"}, {\"RMSE\": 0.2193328291393418, \"Method\": \"Bagging (ntrees=100)\"}, {\"RMSE\": 0.23425418288860456, \"Method\": \"Bagging (ntrees=100)\"}, {\"RMSE\": 0.22962960897683393, \"Method\": \"Bagging (ntrees=100)\"}, {\"RMSE\": 0.22310055355375016, \"Method\": \"Bagging (ntrees=100)\"}, {\"RMSE\": 0.22633299898393178, \"Method\": \"Bagging (ntrees=100)\"}, {\"RMSE\": 0.2443515501088918, \"Method\": \"Bagging (ntrees=100)\"}, {\"RMSE\": 0.22644363763299, \"Method\": \"Bagging (ntrees=100)\"}, {\"RMSE\": 0.23450418800397263, \"Method\": \"Bagging (ntrees=100)\"}, {\"RMSE\": 0.2277577137332991, \"Method\": \"Bagging (ntrees=100)\"}, {\"RMSE\": 0.22949147661378533, \"Method\": \"Bagging (ntrees=100)\"}, {\"RMSE\": 0.22475708733956648, \"Method\": \"Bagging (ntrees=100)\"}, {\"RMSE\": 0.23198656709712925, \"Method\": \"Bagging (ntrees=100)\"}, {\"RMSE\": 0.23847402927979097, \"Method\": \"Bagging (ntrees=100)\"}, {\"RMSE\": 0.23403845950836716, \"Method\": \"Bagging (ntrees=100)\"}, {\"RMSE\": 0.21780052304699943, \"Method\": \"Bagging (ntrees=100)\"}, {\"RMSE\": 0.21791715549062407, \"Method\": \"Bagging (ntrees=100)\"}, {\"RMSE\": 0.2189140476936712, \"Method\": \"Bagging (ntrees=25)\"}, {\"RMSE\": 0.23348260791522724, \"Method\": \"Bagging (ntrees=25)\"}, {\"RMSE\": 0.23074702768641042, \"Method\": \"Bagging (ntrees=25)\"}, {\"RMSE\": 0.22286192154427492, \"Method\": \"Bagging (ntrees=25)\"}, {\"RMSE\": 0.22526889760776692, \"Method\": \"Bagging (ntrees=25)\"}, {\"RMSE\": 0.2295410855440233, \"Method\": \"Bagging (ntrees=25)\"}, {\"RMSE\": 0.23849695195699122, \"Method\": \"Bagging (ntrees=25)\"}, {\"RMSE\": 0.2274950740017119, \"Method\": \"Bagging (ntrees=25)\"}, {\"RMSE\": 0.22868672878174162, \"Method\": \"Bagging (ntrees=25)\"}, {\"RMSE\": 0.23810156599357857, \"Method\": \"Bagging (ntrees=25)\"}, {\"RMSE\": 0.23938225183977563, \"Method\": \"Bagging (ntrees=25)\"}, {\"RMSE\": 0.22799037797558683, \"Method\": \"Bagging (ntrees=25)\"}, {\"RMSE\": 0.2302820907101982, \"Method\": \"Bagging (ntrees=25)\"}, {\"RMSE\": 0.231593726979756, \"Method\": \"Bagging (ntrees=25)\"}, {\"RMSE\": 0.22121225341404077, \"Method\": \"Bagging (ntrees=25)\"}, {\"RMSE\": 0.22894781533874864, \"Method\": \"Bagging (ntrees=25)\"}, {\"RMSE\": 0.2370491762744548, \"Method\": \"Bagging (ntrees=25)\"}, {\"RMSE\": 0.2236795281618612, \"Method\": \"Bagging (ntrees=25)\"}, {\"RMSE\": 0.2291052845292114, \"Method\": \"Bagging (ntrees=25)\"}, {\"RMSE\": 0.22242149630572866, \"Method\": \"Bagging (ntrees=25)\"}, {\"RMSE\": 0.22247549994798718, \"Method\": \"Bagging (ntrees=25)\"}, {\"RMSE\": 0.228762759808509, \"Method\": \"Bagging (ntrees=25)\"}, {\"RMSE\": 0.231789286255477, \"Method\": \"Bagging (ntrees=25)\"}, {\"RMSE\": 0.2275361661188141, \"Method\": \"Bagging (ntrees=25)\"}, {\"RMSE\": 0.231054364024806, \"Method\": \"Bagging (ntrees=25)\"}, {\"RMSE\": 0.2375916661912103, \"Method\": \"Bagging (ntrees=25)\"}, {\"RMSE\": 0.2262162819176013, \"Method\": \"Bagging (ntrees=25)\"}, {\"RMSE\": 0.23537635283053351, \"Method\": \"Bagging (ntrees=25)\"}, {\"RMSE\": 0.23445773731855443, \"Method\": \"Bagging (ntrees=25)\"}, {\"RMSE\": 0.2375741699011875, \"Method\": \"Bagging (ntrees=25)\"}, {\"RMSE\": 0.23475769915942032, \"Method\": \"Bagging (ntrees=25)\"}, {\"RMSE\": 0.2263956087023929, \"Method\": \"Bagging (ntrees=25)\"}, {\"RMSE\": 0.2234963486564415, \"Method\": \"Bagging (ntrees=25)\"}, {\"RMSE\": 0.2285624877585353, \"Method\": \"Bagging (ntrees=25)\"}, {\"RMSE\": 0.21938009515225063, \"Method\": \"Bagging (ntrees=25)\"}, {\"RMSE\": 0.23443759939661576, \"Method\": \"Bagging (ntrees=25)\"}, {\"RMSE\": 0.22954852594319436, \"Method\": \"Bagging (ntrees=25)\"}, {\"RMSE\": 0.22143420571847433, \"Method\": \"Bagging (ntrees=25)\"}, {\"RMSE\": 0.22840608424949752, \"Method\": \"Bagging (ntrees=25)\"}, {\"RMSE\": 0.2442167145338297, \"Method\": \"Bagging (ntrees=25)\"}, {\"RMSE\": 0.2278798654984677, \"Method\": \"Bagging (ntrees=25)\"}, {\"RMSE\": 0.23599395337196014, \"Method\": \"Bagging (ntrees=25)\"}, {\"RMSE\": 0.22877555156018844, \"Method\": \"Bagging (ntrees=25)\"}, {\"RMSE\": 0.2341393402405388, \"Method\": \"Bagging (ntrees=25)\"}, {\"RMSE\": 0.2298089129247469, \"Method\": \"Bagging (ntrees=25)\"}, {\"RMSE\": 0.2325781616434712, \"Method\": \"Bagging (ntrees=25)\"}, {\"RMSE\": 0.24329127547327709, \"Method\": \"Bagging (ntrees=25)\"}, {\"RMSE\": 0.23336577323410182, \"Method\": \"Bagging (ntrees=25)\"}, {\"RMSE\": 0.21962265408577936, \"Method\": \"Bagging (ntrees=25)\"}, {\"RMSE\": 0.22000171409407068, \"Method\": \"Bagging (ntrees=25)\"}]}}, {\"mode\": \"vega-lite\"});\n",
       "</script>"
      ],
      "text/plain": [
       "alt.Chart(...)"
      ]
     },
     "execution_count": 11,
     "metadata": {},
     "output_type": "execute_result"
    }
   ],
   "source": [
    "import altair as alt\n",
    "\n",
    "alt.Chart(results).mark_boxplot().encode(\n",
    "    alt.Y(\"RMSE:Q\"),\n",
    "    x='Method',\n",
    ").properties(width=300)"
   ]
  },
  {
   "cell_type": "markdown",
   "metadata": {},
   "source": [
    "For a moment, let's not worry that the underlying distributions do not look normal. We know how to compare the average of two distributions, the t-test. Let's see what that says:"
   ]
  },
  {
   "cell_type": "code",
   "execution_count": 12,
   "metadata": {},
   "outputs": [
    {
     "data": {
      "text/html": [
       "<div>\n",
       "<style scoped>\n",
       "    .dataframe tbody tr th:only-of-type {\n",
       "        vertical-align: middle;\n",
       "    }\n",
       "\n",
       "    .dataframe tbody tr th {\n",
       "        vertical-align: top;\n",
       "    }\n",
       "\n",
       "    .dataframe thead tr th {\n",
       "        text-align: left;\n",
       "    }\n",
       "</style>\n",
       "<table border=\"1\" class=\"dataframe\">\n",
       "  <thead>\n",
       "    <tr>\n",
       "      <th></th>\n",
       "      <th colspan=\"2\" halign=\"left\">RMSE</th>\n",
       "    </tr>\n",
       "    <tr>\n",
       "      <th>Method</th>\n",
       "      <th>Bagging (ntrees=100)</th>\n",
       "      <th>Bagging (ntrees=25)</th>\n",
       "    </tr>\n",
       "  </thead>\n",
       "  <tbody>\n",
       "    <tr>\n",
       "      <th>0</th>\n",
       "      <td>0.216570</td>\n",
       "      <td>0.218914</td>\n",
       "    </tr>\n",
       "    <tr>\n",
       "      <th>1</th>\n",
       "      <td>0.231279</td>\n",
       "      <td>0.233483</td>\n",
       "    </tr>\n",
       "    <tr>\n",
       "      <th>2</th>\n",
       "      <td>0.228418</td>\n",
       "      <td>0.230747</td>\n",
       "    </tr>\n",
       "    <tr>\n",
       "      <th>3</th>\n",
       "      <td>0.223504</td>\n",
       "      <td>0.222862</td>\n",
       "    </tr>\n",
       "    <tr>\n",
       "      <th>4</th>\n",
       "      <td>0.223946</td>\n",
       "      <td>0.225269</td>\n",
       "    </tr>\n",
       "  </tbody>\n",
       "</table>\n",
       "</div>"
      ],
      "text/plain": [
       "                       RMSE                    \n",
       "Method Bagging (ntrees=100) Bagging (ntrees=25)\n",
       "0                  0.216570            0.218914\n",
       "1                  0.231279            0.233483\n",
       "2                  0.228418            0.230747\n",
       "3                  0.223504            0.222862\n",
       "4                  0.223946            0.225269"
      ]
     },
     "execution_count": 12,
     "metadata": {},
     "output_type": "execute_result"
    }
   ],
   "source": [
    "pivot_results = results.pivot(columns='Method')\n",
    "pivot_results.head()"
   ]
  },
  {
   "cell_type": "code",
   "execution_count": 13,
   "metadata": {},
   "outputs": [
    {
     "data": {
      "text/plain": [
       "MultiIndex([('RMSE', 'Bagging (ntrees=100)'),\n",
       "            ('RMSE',  'Bagging (ntrees=25)')],\n",
       "           names=[None, 'Method'])"
      ]
     },
     "execution_count": 13,
     "metadata": {},
     "output_type": "execute_result"
    }
   ],
   "source": [
    "pivot_results.columns"
   ]
  },
  {
   "cell_type": "code",
   "execution_count": 14,
   "metadata": {},
   "outputs": [
    {
     "data": {
      "text/plain": [
       "Ttest_indResult(statistic=-1.156848528888426, pvalue=0.25014636104489185)"
      ]
     },
     "execution_count": 14,
     "metadata": {},
     "output_type": "execute_result"
    }
   ],
   "source": [
    "from scipy import stats\n",
    "stats.stats.ttest_ind(pivot_results[('RMSE', 'Bagging (ntrees=100)')],pivot_results[('RMSE', 'Bagging (ntrees=25)')],equal_var = True)"
   ]
  },
  {
   "cell_type": "markdown",
   "metadata": {},
   "source": [
    "So according to this test, we do not see any significant difference between the results."
   ]
  },
  {
   "cell_type": "markdown",
   "metadata": {},
   "source": [
    "**Problem 2.** What if you only used 2 trees? Is there a significant difference between 2 and 25 trees?\n",
    "\n",
    "**Your answer here**"
   ]
  },
  {
   "cell_type": "code",
   "execution_count": 15,
   "metadata": {},
   "outputs": [],
   "source": [
    "RMSEs = []\n",
    "for trial in range(ntrials):\n",
    "    X_train, X_test, t_train, t_test = train_test_split(X2, t, test_size=0.25,random_state=trial)\n",
    "    trees = Lab5_helper.make_trees(X_train,t_train,ntrees=2)\n",
    "    y = Lab5_helper.make_prediction(trees,X_test)\n",
    "    RMSEs.append(np.sqrt(((y-t_test)**2).sum()/len(t_test)))\n",
    "results2 = pd.DataFrame({'RMSE':RMSEs,'Method':'Bagging (ntrees=2)'})\n",
    "results = results.append(results2)"
   ]
  },
  {
   "cell_type": "code",
   "execution_count": 16,
   "metadata": {},
   "outputs": [
    {
     "data": {
      "text/plain": [
       "Method\n",
       "Bagging (ntrees=100)    0.228471\n",
       "Bagging (ntrees=2)      0.251704\n",
       "Bagging (ntrees=25)     0.229884\n",
       "Name: RMSE, dtype: float64"
      ]
     },
     "execution_count": 16,
     "metadata": {},
     "output_type": "execute_result"
    }
   ],
   "source": [
    "results.groupby('Method')['RMSE'].mean()"
   ]
  },
  {
   "cell_type": "code",
   "execution_count": 17,
   "metadata": {},
   "outputs": [
    {
     "data": {
      "text/html": [
       "<div>\n",
       "<style scoped>\n",
       "    .dataframe tbody tr th:only-of-type {\n",
       "        vertical-align: middle;\n",
       "    }\n",
       "\n",
       "    .dataframe tbody tr th {\n",
       "        vertical-align: top;\n",
       "    }\n",
       "\n",
       "    .dataframe thead tr th {\n",
       "        text-align: left;\n",
       "    }\n",
       "</style>\n",
       "<table border=\"1\" class=\"dataframe\">\n",
       "  <thead>\n",
       "    <tr>\n",
       "      <th></th>\n",
       "      <th colspan=\"3\" halign=\"left\">RMSE</th>\n",
       "    </tr>\n",
       "    <tr>\n",
       "      <th>Method</th>\n",
       "      <th>Bagging (ntrees=100)</th>\n",
       "      <th>Bagging (ntrees=2)</th>\n",
       "      <th>Bagging (ntrees=25)</th>\n",
       "    </tr>\n",
       "  </thead>\n",
       "  <tbody>\n",
       "    <tr>\n",
       "      <th>0</th>\n",
       "      <td>0.216570</td>\n",
       "      <td>0.245939</td>\n",
       "      <td>0.218914</td>\n",
       "    </tr>\n",
       "    <tr>\n",
       "      <th>1</th>\n",
       "      <td>0.231279</td>\n",
       "      <td>0.244626</td>\n",
       "      <td>0.233483</td>\n",
       "    </tr>\n",
       "    <tr>\n",
       "      <th>2</th>\n",
       "      <td>0.228418</td>\n",
       "      <td>0.259481</td>\n",
       "      <td>0.230747</td>\n",
       "    </tr>\n",
       "    <tr>\n",
       "      <th>3</th>\n",
       "      <td>0.223504</td>\n",
       "      <td>0.245710</td>\n",
       "      <td>0.222862</td>\n",
       "    </tr>\n",
       "    <tr>\n",
       "      <th>4</th>\n",
       "      <td>0.223946</td>\n",
       "      <td>0.241681</td>\n",
       "      <td>0.225269</td>\n",
       "    </tr>\n",
       "  </tbody>\n",
       "</table>\n",
       "</div>"
      ],
      "text/plain": [
       "                       RMSE                                       \n",
       "Method Bagging (ntrees=100) Bagging (ntrees=2) Bagging (ntrees=25)\n",
       "0                  0.216570           0.245939            0.218914\n",
       "1                  0.231279           0.244626            0.233483\n",
       "2                  0.228418           0.259481            0.230747\n",
       "3                  0.223504           0.245710            0.222862\n",
       "4                  0.223946           0.241681            0.225269"
      ]
     },
     "execution_count": 17,
     "metadata": {},
     "output_type": "execute_result"
    }
   ],
   "source": [
    "pivot_results = results.pivot(columns='Method')\n",
    "pivot_results.head()"
   ]
  },
  {
   "cell_type": "code",
   "execution_count": 18,
   "metadata": {},
   "outputs": [
    {
     "data": {
      "text/plain": [
       "Ttest_indResult(statistic=-18.022313534785024, pvalue=7.086804365208508e-33)"
      ]
     },
     "execution_count": 18,
     "metadata": {},
     "output_type": "execute_result"
    }
   ],
   "source": [
    "stats.stats.ttest_ind(pivot_results[('RMSE', 'Bagging (ntrees=100)')],pivot_results[('RMSE', 'Bagging (ntrees=2)')],equal_var = True)"
   ]
  },
  {
   "cell_type": "markdown",
   "metadata": {},
   "source": [
    "Finally, we can report a p-value < 0.05! Even if we were to discuss multiple test correction at this time, this would still be a significant result. So bagging is helping us!"
   ]
  },
  {
   "cell_type": "markdown",
   "metadata": {},
   "source": [
    "#### Exercise 2\n",
    "Implement boosting using regression trees as the (weak) individual learner. You should be able to reach a similar accuray to my implementation."
   ]
  },
  {
   "cell_type": "code",
   "execution_count": 19,
   "metadata": {},
   "outputs": [],
   "source": [
    "RMSEs = []\n",
    "for trial in range(ntrials):\n",
    "    X_train, X_test, t_train, t_test = train_test_split(X2, t, test_size=0.25,random_state=trial)\n",
    "    X_train2, X_val, t_train2, t_val = train_test_split(X_train, t_train, test_size=0.25,random_state=trial)\n",
    "    trees,train_RMSEs,val_RMSEs = Lab5_helper.make_trees_boost(X_train2, X_val, t_train2, t_val, max_ntrees=100)\n",
    "    trees = Lab5_helper.cut_trees(trees,val_RMSEs)\n",
    "    y = Lab5_helper.make_prediction_boost(trees,X_test)\n",
    "    RMSEs.append(np.sqrt(((y-t_test)**2).sum()/len(t_test)))\n",
    "results2 = pd.DataFrame({'RMSE':RMSEs,'Method':'Boosting (max_ntrees=100)'})\n",
    "results = results.append(results2)"
   ]
  },
  {
   "cell_type": "code",
   "execution_count": 20,
   "metadata": {},
   "outputs": [
    {
     "data": {
      "text/html": [
       "\n",
       "<div id=\"altair-viz-bb1cfaa9a7fa4673b7ea9ac34ce746b5\"></div>\n",
       "<script type=\"text/javascript\">\n",
       "  (function(spec, embedOpt){\n",
       "    let outputDiv = document.currentScript.previousElementSibling;\n",
       "    if (outputDiv.id !== \"altair-viz-bb1cfaa9a7fa4673b7ea9ac34ce746b5\") {\n",
       "      outputDiv = document.getElementById(\"altair-viz-bb1cfaa9a7fa4673b7ea9ac34ce746b5\");\n",
       "    }\n",
       "    const paths = {\n",
       "      \"vega\": \"https://cdn.jsdelivr.net/npm//vega@5?noext\",\n",
       "      \"vega-lib\": \"https://cdn.jsdelivr.net/npm//vega-lib?noext\",\n",
       "      \"vega-lite\": \"https://cdn.jsdelivr.net/npm//vega-lite@4.8.1?noext\",\n",
       "      \"vega-embed\": \"https://cdn.jsdelivr.net/npm//vega-embed@6?noext\",\n",
       "    };\n",
       "\n",
       "    function loadScript(lib) {\n",
       "      return new Promise(function(resolve, reject) {\n",
       "        var s = document.createElement('script');\n",
       "        s.src = paths[lib];\n",
       "        s.async = true;\n",
       "        s.onload = () => resolve(paths[lib]);\n",
       "        s.onerror = () => reject(`Error loading script: ${paths[lib]}`);\n",
       "        document.getElementsByTagName(\"head\")[0].appendChild(s);\n",
       "      });\n",
       "    }\n",
       "\n",
       "    function showError(err) {\n",
       "      outputDiv.innerHTML = `<div class=\"error\" style=\"color:red;\">${err}</div>`;\n",
       "      throw err;\n",
       "    }\n",
       "\n",
       "    function displayChart(vegaEmbed) {\n",
       "      vegaEmbed(outputDiv, spec, embedOpt)\n",
       "        .catch(err => showError(`Javascript Error: ${err.message}<br>This usually means there's a typo in your chart specification. See the javascript console for the full traceback.`));\n",
       "    }\n",
       "\n",
       "    if(typeof define === \"function\" && define.amd) {\n",
       "      requirejs.config({paths});\n",
       "      require([\"vega-embed\"], displayChart, err => showError(`Error loading script: ${err.message}`));\n",
       "    } else if (typeof vegaEmbed === \"function\") {\n",
       "      displayChart(vegaEmbed);\n",
       "    } else {\n",
       "      loadScript(\"vega\")\n",
       "        .then(() => loadScript(\"vega-lite\"))\n",
       "        .then(() => loadScript(\"vega-embed\"))\n",
       "        .catch(showError)\n",
       "        .then(() => displayChart(vegaEmbed));\n",
       "    }\n",
       "  })({\"config\": {\"view\": {\"continuousWidth\": 400, \"continuousHeight\": 300}}, \"data\": {\"name\": \"data-5f566bc041f021e945d0a35327339761\"}, \"mark\": \"line\", \"encoding\": {\"color\": {\"type\": \"nominal\", \"field\": \"variable\"}, \"x\": {\"type\": \"quantitative\", \"field\": \"ntrees\"}, \"y\": {\"type\": \"quantitative\", \"field\": \"value\", \"scale\": {\"domain\": [0.1, 0.3]}}}, \"width\": 500, \"$schema\": \"https://vega.github.io/schema/vega-lite/v4.8.1.json\", \"datasets\": {\"data-5f566bc041f021e945d0a35327339761\": [{\"ntrees\": 0, \"variable\": \"train_RMSE\", \"value\": 0.23361175722869007}, {\"ntrees\": 1, \"variable\": \"train_RMSE\", \"value\": 0.22467289521860845}, {\"ntrees\": 2, \"variable\": \"train_RMSE\", \"value\": 0.2203789445442496}, {\"ntrees\": 3, \"variable\": \"train_RMSE\", \"value\": 0.21788041804241934}, {\"ntrees\": 4, \"variable\": \"train_RMSE\", \"value\": 0.21720982515620177}, {\"ntrees\": 5, \"variable\": \"train_RMSE\", \"value\": 0.21552887790550979}, {\"ntrees\": 6, \"variable\": \"train_RMSE\", \"value\": 0.21374371962201774}, {\"ntrees\": 7, \"variable\": \"train_RMSE\", \"value\": 0.21245305316595015}, {\"ntrees\": 8, \"variable\": \"train_RMSE\", \"value\": 0.21053779017866323}, {\"ntrees\": 9, \"variable\": \"train_RMSE\", \"value\": 0.20886199077242953}, {\"ntrees\": 10, \"variable\": \"train_RMSE\", \"value\": 0.20712022394436616}, {\"ntrees\": 11, \"variable\": \"train_RMSE\", \"value\": 0.20672017054224032}, {\"ntrees\": 12, \"variable\": \"train_RMSE\", \"value\": 0.20587828391840005}, {\"ntrees\": 13, \"variable\": \"train_RMSE\", \"value\": 0.20544861132431877}, {\"ntrees\": 14, \"variable\": \"train_RMSE\", \"value\": 0.2048346954228424}, {\"ntrees\": 15, \"variable\": \"train_RMSE\", \"value\": 0.2035205397819556}, {\"ntrees\": 16, \"variable\": \"train_RMSE\", \"value\": 0.20286793439479225}, {\"ntrees\": 17, \"variable\": \"train_RMSE\", \"value\": 0.20129158382258572}, {\"ntrees\": 18, \"variable\": \"train_RMSE\", \"value\": 0.20010736275706562}, {\"ntrees\": 19, \"variable\": \"train_RMSE\", \"value\": 0.19919345006446754}, {\"ntrees\": 20, \"variable\": \"train_RMSE\", \"value\": 0.19895216434417928}, {\"ntrees\": 21, \"variable\": \"train_RMSE\", \"value\": 0.19812804234784298}, {\"ntrees\": 22, \"variable\": \"train_RMSE\", \"value\": 0.1974712812558197}, {\"ntrees\": 23, \"variable\": \"train_RMSE\", \"value\": 0.19657358462326335}, {\"ntrees\": 24, \"variable\": \"train_RMSE\", \"value\": 0.19608302516197298}, {\"ntrees\": 25, \"variable\": \"train_RMSE\", \"value\": 0.19479443357672674}, {\"ntrees\": 26, \"variable\": \"train_RMSE\", \"value\": 0.19237033383852628}, {\"ntrees\": 27, \"variable\": \"train_RMSE\", \"value\": 0.19211474149366173}, {\"ntrees\": 28, \"variable\": \"train_RMSE\", \"value\": 0.19135644632680945}, {\"ntrees\": 29, \"variable\": \"train_RMSE\", \"value\": 0.1908610465351189}, {\"ntrees\": 30, \"variable\": \"train_RMSE\", \"value\": 0.19009192647488787}, {\"ntrees\": 31, \"variable\": \"train_RMSE\", \"value\": 0.189509808766116}, {\"ntrees\": 32, \"variable\": \"train_RMSE\", \"value\": 0.18929168751030157}, {\"ntrees\": 33, \"variable\": \"train_RMSE\", \"value\": 0.1879696515477533}, {\"ntrees\": 34, \"variable\": \"train_RMSE\", \"value\": 0.18684976710761927}, {\"ntrees\": 35, \"variable\": \"train_RMSE\", \"value\": 0.18646417582671837}, {\"ntrees\": 36, \"variable\": \"train_RMSE\", \"value\": 0.1861304322368956}, {\"ntrees\": 37, \"variable\": \"train_RMSE\", \"value\": 0.1847914749004286}, {\"ntrees\": 38, \"variable\": \"train_RMSE\", \"value\": 0.18370243428577718}, {\"ntrees\": 39, \"variable\": \"train_RMSE\", \"value\": 0.18230887948734958}, {\"ntrees\": 40, \"variable\": \"train_RMSE\", \"value\": 0.18216870902587426}, {\"ntrees\": 41, \"variable\": \"train_RMSE\", \"value\": 0.18100083273345666}, {\"ntrees\": 42, \"variable\": \"train_RMSE\", \"value\": 0.18034087924669126}, {\"ntrees\": 43, \"variable\": \"train_RMSE\", \"value\": 0.17989825205381435}, {\"ntrees\": 44, \"variable\": \"train_RMSE\", \"value\": 0.17966146428166282}, {\"ntrees\": 45, \"variable\": \"train_RMSE\", \"value\": 0.17939806609395897}, {\"ntrees\": 46, \"variable\": \"train_RMSE\", \"value\": 0.17929876190868302}, {\"ntrees\": 47, \"variable\": \"train_RMSE\", \"value\": 0.17870837679998047}, {\"ntrees\": 48, \"variable\": \"train_RMSE\", \"value\": 0.17812223768851845}, {\"ntrees\": 49, \"variable\": \"train_RMSE\", \"value\": 0.17702048072435167}, {\"ntrees\": 50, \"variable\": \"train_RMSE\", \"value\": 0.17601885837972062}, {\"ntrees\": 51, \"variable\": \"train_RMSE\", \"value\": 0.17523783097344936}, {\"ntrees\": 52, \"variable\": \"train_RMSE\", \"value\": 0.17473332094408514}, {\"ntrees\": 53, \"variable\": \"train_RMSE\", \"value\": 0.1742728350691829}, {\"ntrees\": 54, \"variable\": \"train_RMSE\", \"value\": 0.17292044227568926}, {\"ntrees\": 55, \"variable\": \"train_RMSE\", \"value\": 0.17245778297558545}, {\"ntrees\": 56, \"variable\": \"train_RMSE\", \"value\": 0.17165797207469224}, {\"ntrees\": 57, \"variable\": \"train_RMSE\", \"value\": 0.171000519281327}, {\"ntrees\": 58, \"variable\": \"train_RMSE\", \"value\": 0.16989451284822463}, {\"ntrees\": 59, \"variable\": \"train_RMSE\", \"value\": 0.16856926218057444}, {\"ntrees\": 60, \"variable\": \"train_RMSE\", \"value\": 0.16796761970488058}, {\"ntrees\": 61, \"variable\": \"train_RMSE\", \"value\": 0.16727120932971953}, {\"ntrees\": 62, \"variable\": \"train_RMSE\", \"value\": 0.1666669879813169}, {\"ntrees\": 63, \"variable\": \"train_RMSE\", \"value\": 0.1662878362587993}, {\"ntrees\": 64, \"variable\": \"train_RMSE\", \"value\": 0.16621466332854445}, {\"ntrees\": 65, \"variable\": \"train_RMSE\", \"value\": 0.16557402843202912}, {\"ntrees\": 66, \"variable\": \"train_RMSE\", \"value\": 0.16526236431318495}, {\"ntrees\": 67, \"variable\": \"train_RMSE\", \"value\": 0.16483457027848888}, {\"ntrees\": 68, \"variable\": \"train_RMSE\", \"value\": 0.16427119399268889}, {\"ntrees\": 69, \"variable\": \"train_RMSE\", \"value\": 0.1631623416719142}, {\"ntrees\": 70, \"variable\": \"train_RMSE\", \"value\": 0.16214946038369626}, {\"ntrees\": 71, \"variable\": \"train_RMSE\", \"value\": 0.1617093350028622}, {\"ntrees\": 72, \"variable\": \"train_RMSE\", \"value\": 0.16074984720594168}, {\"ntrees\": 73, \"variable\": \"train_RMSE\", \"value\": 0.15965871343771185}, {\"ntrees\": 74, \"variable\": \"train_RMSE\", \"value\": 0.1593336643699821}, {\"ntrees\": 75, \"variable\": \"train_RMSE\", \"value\": 0.15899149857579423}, {\"ntrees\": 76, \"variable\": \"train_RMSE\", \"value\": 0.1584769575483242}, {\"ntrees\": 77, \"variable\": \"train_RMSE\", \"value\": 0.1576605288931892}, {\"ntrees\": 78, \"variable\": \"train_RMSE\", \"value\": 0.157311554854324}, {\"ntrees\": 79, \"variable\": \"train_RMSE\", \"value\": 0.15685232065003663}, {\"ntrees\": 80, \"variable\": \"train_RMSE\", \"value\": 0.15605587399651485}, {\"ntrees\": 81, \"variable\": \"train_RMSE\", \"value\": 0.15536463002820713}, {\"ntrees\": 82, \"variable\": \"train_RMSE\", \"value\": 0.15474880384241804}, {\"ntrees\": 83, \"variable\": \"train_RMSE\", \"value\": 0.15402226931761473}, {\"ntrees\": 84, \"variable\": \"train_RMSE\", \"value\": 0.15378880091131855}, {\"ntrees\": 85, \"variable\": \"train_RMSE\", \"value\": 0.1535476207776062}, {\"ntrees\": 86, \"variable\": \"train_RMSE\", \"value\": 0.15317516361953615}, {\"ntrees\": 87, \"variable\": \"train_RMSE\", \"value\": 0.1521426116831314}, {\"ntrees\": 88, \"variable\": \"train_RMSE\", \"value\": 0.15156687802946375}, {\"ntrees\": 89, \"variable\": \"train_RMSE\", \"value\": 0.15090136356415765}, {\"ntrees\": 90, \"variable\": \"train_RMSE\", \"value\": 0.14967295825633922}, {\"ntrees\": 91, \"variable\": \"train_RMSE\", \"value\": 0.149131769181507}, {\"ntrees\": 92, \"variable\": \"train_RMSE\", \"value\": 0.14840983923501935}, {\"ntrees\": 93, \"variable\": \"train_RMSE\", \"value\": 0.14809275121960633}, {\"ntrees\": 94, \"variable\": \"train_RMSE\", \"value\": 0.14723725846109711}, {\"ntrees\": 95, \"variable\": \"train_RMSE\", \"value\": 0.1469008197571982}, {\"ntrees\": 96, \"variable\": \"train_RMSE\", \"value\": 0.14616117508948587}, {\"ntrees\": 97, \"variable\": \"train_RMSE\", \"value\": 0.14565462636548612}, {\"ntrees\": 98, \"variable\": \"train_RMSE\", \"value\": 0.14496693208159378}, {\"ntrees\": 99, \"variable\": \"train_RMSE\", \"value\": 0.14425728705470325}, {\"ntrees\": 0, \"variable\": \"val_RMSE\", \"value\": 0.239738196609986}, {\"ntrees\": 1, \"variable\": \"val_RMSE\", \"value\": 0.23046953632996314}, {\"ntrees\": 2, \"variable\": \"val_RMSE\", \"value\": 0.22892013770888642}, {\"ntrees\": 3, \"variable\": \"val_RMSE\", \"value\": 0.2272295845561141}, {\"ntrees\": 4, \"variable\": \"val_RMSE\", \"value\": 0.22860744582240541}, {\"ntrees\": 5, \"variable\": \"val_RMSE\", \"value\": 0.22840946775884619}, {\"ntrees\": 6, \"variable\": \"val_RMSE\", \"value\": 0.22895916877507488}, {\"ntrees\": 7, \"variable\": \"val_RMSE\", \"value\": 0.22818095109781375}, {\"ntrees\": 8, \"variable\": \"val_RMSE\", \"value\": 0.23023885317593426}, {\"ntrees\": 9, \"variable\": \"val_RMSE\", \"value\": 0.23190282300981335}, {\"ntrees\": 10, \"variable\": \"val_RMSE\", \"value\": 0.23482275939072553}, {\"ntrees\": 11, \"variable\": \"val_RMSE\", \"value\": 0.23528008604540296}, {\"ntrees\": 12, \"variable\": \"val_RMSE\", \"value\": 0.23560167336427854}, {\"ntrees\": 13, \"variable\": \"val_RMSE\", \"value\": 0.23506278755259855}, {\"ntrees\": 14, \"variable\": \"val_RMSE\", \"value\": 0.23394783376893946}, {\"ntrees\": 15, \"variable\": \"val_RMSE\", \"value\": 0.23398924374435132}, {\"ntrees\": 16, \"variable\": \"val_RMSE\", \"value\": 0.2359023541904593}, {\"ntrees\": 17, \"variable\": \"val_RMSE\", \"value\": 0.23593002645183903}, {\"ntrees\": 18, \"variable\": \"val_RMSE\", \"value\": 0.23478184207109173}, {\"ntrees\": 19, \"variable\": \"val_RMSE\", \"value\": 0.23385598420764148}, {\"ntrees\": 20, \"variable\": \"val_RMSE\", \"value\": 0.2335801267795799}, {\"ntrees\": 21, \"variable\": \"val_RMSE\", \"value\": 0.23324377628260062}, {\"ntrees\": 22, \"variable\": \"val_RMSE\", \"value\": 0.23318000375159018}, {\"ntrees\": 23, \"variable\": \"val_RMSE\", \"value\": 0.23294667114269707}, {\"ntrees\": 24, \"variable\": \"val_RMSE\", \"value\": 0.23320332338749117}, {\"ntrees\": 25, \"variable\": \"val_RMSE\", \"value\": 0.23604371781112846}, {\"ntrees\": 26, \"variable\": \"val_RMSE\", \"value\": 0.23870211735199878}, {\"ntrees\": 27, \"variable\": \"val_RMSE\", \"value\": 0.23877057550684877}, {\"ntrees\": 28, \"variable\": \"val_RMSE\", \"value\": 0.24062122167104047}, {\"ntrees\": 29, \"variable\": \"val_RMSE\", \"value\": 0.2423589886925264}, {\"ntrees\": 30, \"variable\": \"val_RMSE\", \"value\": 0.24252085107334068}, {\"ntrees\": 31, \"variable\": \"val_RMSE\", \"value\": 0.2429388922461712}, {\"ntrees\": 32, \"variable\": \"val_RMSE\", \"value\": 0.24338824535899167}, {\"ntrees\": 33, \"variable\": \"val_RMSE\", \"value\": 0.24364312268939997}, {\"ntrees\": 34, \"variable\": \"val_RMSE\", \"value\": 0.2432541383339274}, {\"ntrees\": 35, \"variable\": \"val_RMSE\", \"value\": 0.2447834637315164}, {\"ntrees\": 36, \"variable\": \"val_RMSE\", \"value\": 0.24453088521347052}, {\"ntrees\": 37, \"variable\": \"val_RMSE\", \"value\": 0.24469032118146614}, {\"ntrees\": 38, \"variable\": \"val_RMSE\", \"value\": 0.24473038532618432}, {\"ntrees\": 39, \"variable\": \"val_RMSE\", \"value\": 0.2435948696657567}, {\"ntrees\": 40, \"variable\": \"val_RMSE\", \"value\": 0.24408258768106483}, {\"ntrees\": 41, \"variable\": \"val_RMSE\", \"value\": 0.24345892143439626}, {\"ntrees\": 42, \"variable\": \"val_RMSE\", \"value\": 0.24381924661835455}, {\"ntrees\": 43, \"variable\": \"val_RMSE\", \"value\": 0.2436629659013623}, {\"ntrees\": 44, \"variable\": \"val_RMSE\", \"value\": 0.24350526977873305}, {\"ntrees\": 45, \"variable\": \"val_RMSE\", \"value\": 0.24350186837685892}, {\"ntrees\": 46, \"variable\": \"val_RMSE\", \"value\": 0.24350216888529838}, {\"ntrees\": 47, \"variable\": \"val_RMSE\", \"value\": 0.24423303755734493}, {\"ntrees\": 48, \"variable\": \"val_RMSE\", \"value\": 0.24393226042971072}, {\"ntrees\": 49, \"variable\": \"val_RMSE\", \"value\": 0.24413791115399852}, {\"ntrees\": 50, \"variable\": \"val_RMSE\", \"value\": 0.24515332113777177}, {\"ntrees\": 51, \"variable\": \"val_RMSE\", \"value\": 0.24419762180275256}, {\"ntrees\": 52, \"variable\": \"val_RMSE\", \"value\": 0.24455734304054344}, {\"ntrees\": 53, \"variable\": \"val_RMSE\", \"value\": 0.245911453230399}, {\"ntrees\": 54, \"variable\": \"val_RMSE\", \"value\": 0.24749705159427404}, {\"ntrees\": 55, \"variable\": \"val_RMSE\", \"value\": 0.24795955263809108}, {\"ntrees\": 56, \"variable\": \"val_RMSE\", \"value\": 0.2501998210621391}, {\"ntrees\": 57, \"variable\": \"val_RMSE\", \"value\": 0.25025346444519325}, {\"ntrees\": 58, \"variable\": \"val_RMSE\", \"value\": 0.2503790129273793}, {\"ntrees\": 59, \"variable\": \"val_RMSE\", \"value\": 0.24941876580209862}, {\"ntrees\": 60, \"variable\": \"val_RMSE\", \"value\": 0.2491254057816074}, {\"ntrees\": 61, \"variable\": \"val_RMSE\", \"value\": 0.2502872976171988}, {\"ntrees\": 62, \"variable\": \"val_RMSE\", \"value\": 0.2510874073999459}, {\"ntrees\": 63, \"variable\": \"val_RMSE\", \"value\": 0.25263097822673847}, {\"ntrees\": 64, \"variable\": \"val_RMSE\", \"value\": 0.25236669803557077}, {\"ntrees\": 65, \"variable\": \"val_RMSE\", \"value\": 0.25201252685523057}, {\"ntrees\": 66, \"variable\": \"val_RMSE\", \"value\": 0.25192535415774614}, {\"ntrees\": 67, \"variable\": \"val_RMSE\", \"value\": 0.25226229013044327}, {\"ntrees\": 68, \"variable\": \"val_RMSE\", \"value\": 0.2533025481635391}, {\"ntrees\": 69, \"variable\": \"val_RMSE\", \"value\": 0.25126625977013206}, {\"ntrees\": 70, \"variable\": \"val_RMSE\", \"value\": 0.2521989220261704}, {\"ntrees\": 71, \"variable\": \"val_RMSE\", \"value\": 0.2521309207022636}, {\"ntrees\": 72, \"variable\": \"val_RMSE\", \"value\": 0.25492726096454416}, {\"ntrees\": 73, \"variable\": \"val_RMSE\", \"value\": 0.2562678476536983}, {\"ntrees\": 74, \"variable\": \"val_RMSE\", \"value\": 0.2562692549729885}, {\"ntrees\": 75, \"variable\": \"val_RMSE\", \"value\": 0.2569073484212061}, {\"ntrees\": 76, \"variable\": \"val_RMSE\", \"value\": 0.2575922329076769}, {\"ntrees\": 77, \"variable\": \"val_RMSE\", \"value\": 0.2570270162581464}, {\"ntrees\": 78, \"variable\": \"val_RMSE\", \"value\": 0.25802961099170396}, {\"ntrees\": 79, \"variable\": \"val_RMSE\", \"value\": 0.25681080001902895}, {\"ntrees\": 80, \"variable\": \"val_RMSE\", \"value\": 0.2586629995965122}, {\"ntrees\": 81, \"variable\": \"val_RMSE\", \"value\": 0.2593987283910193}, {\"ntrees\": 82, \"variable\": \"val_RMSE\", \"value\": 0.2600175276952536}, {\"ntrees\": 83, \"variable\": \"val_RMSE\", \"value\": 0.2597323665470617}, {\"ntrees\": 84, \"variable\": \"val_RMSE\", \"value\": 0.26003460863665295}, {\"ntrees\": 85, \"variable\": \"val_RMSE\", \"value\": 0.26002340549573916}, {\"ntrees\": 86, \"variable\": \"val_RMSE\", \"value\": 0.2603463481799646}, {\"ntrees\": 87, \"variable\": \"val_RMSE\", \"value\": 0.26039787831288186}, {\"ntrees\": 88, \"variable\": \"val_RMSE\", \"value\": 0.2605639360834001}, {\"ntrees\": 89, \"variable\": \"val_RMSE\", \"value\": 0.2605502449133512}, {\"ntrees\": 90, \"variable\": \"val_RMSE\", \"value\": 0.2643049340941438}, {\"ntrees\": 91, \"variable\": \"val_RMSE\", \"value\": 0.2643087297161338}, {\"ntrees\": 92, \"variable\": \"val_RMSE\", \"value\": 0.26448417185457823}, {\"ntrees\": 93, \"variable\": \"val_RMSE\", \"value\": 0.26516112296170796}, {\"ntrees\": 94, \"variable\": \"val_RMSE\", \"value\": 0.26472867994831445}, {\"ntrees\": 95, \"variable\": \"val_RMSE\", \"value\": 0.26435158144757925}, {\"ntrees\": 96, \"variable\": \"val_RMSE\", \"value\": 0.26445544518050845}, {\"ntrees\": 97, \"variable\": \"val_RMSE\", \"value\": 0.2647301199254928}, {\"ntrees\": 98, \"variable\": \"val_RMSE\", \"value\": 0.2642696723721989}, {\"ntrees\": 99, \"variable\": \"val_RMSE\", \"value\": 0.2647223515136994}]}}, {\"mode\": \"vega-lite\"});\n",
       "</script>"
      ],
      "text/plain": [
       "alt.Chart(...)"
      ]
     },
     "execution_count": 20,
     "metadata": {},
     "output_type": "execute_result"
    }
   ],
   "source": [
    "source = pd.DataFrame({\"train_RMSE\":train_RMSEs,\"val_RMSE\":val_RMSEs, \"ntrees\":np.arange(len(val_RMSEs))}).melt(id_vars=['ntrees'])\n",
    "\n",
    "alt.Chart(source).mark_line().encode(\n",
    "    y = alt.Y(\"value:Q\", scale=alt.Scale(domain=[0.1, 0.3])),\n",
    "    x = 'ntrees',\n",
    "    color='variable'\n",
    ").properties(width=500)"
   ]
  },
  {
   "cell_type": "code",
   "execution_count": 21,
   "metadata": {},
   "outputs": [
    {
     "data": {
      "text/plain": [
       "Method\n",
       "Boosting (max_ntrees=100)    0.226319\n",
       "Bagging (ntrees=100)         0.228481\n",
       "Bagging (ntrees=25)          0.229323\n",
       "Bagging (ntrees=2)           0.251975\n",
       "Name: RMSE, dtype: float64"
      ]
     },
     "execution_count": 21,
     "metadata": {},
     "output_type": "execute_result"
    }
   ],
   "source": [
    "results.groupby('Method')['RMSE'].median().sort_values()"
   ]
  },
  {
   "cell_type": "code",
   "execution_count": 22,
   "metadata": {},
   "outputs": [
    {
     "data": {
      "text/plain": [
       "Method\n",
       "Boosting (max_ntrees=100)    0.227608\n",
       "Bagging (ntrees=100)         0.228471\n",
       "Bagging (ntrees=25)          0.229884\n",
       "Bagging (ntrees=2)           0.251704\n",
       "Name: RMSE, dtype: float64"
      ]
     },
     "execution_count": 22,
     "metadata": {},
     "output_type": "execute_result"
    }
   ],
   "source": [
    "results.groupby('Method')['RMSE'].mean().sort_values()"
   ]
  },
  {
   "cell_type": "code",
   "execution_count": 23,
   "metadata": {},
   "outputs": [
    {
     "data": {
      "text/plain": [
       "0.2276076557007215"
      ]
     },
     "execution_count": 23,
     "metadata": {},
     "output_type": "execute_result"
    }
   ],
   "source": [
    "np.mean(RMSEs)"
   ]
  },
  {
   "cell_type": "code",
   "execution_count": 24,
   "metadata": {},
   "outputs": [
    {
     "data": {
      "text/html": [
       "\n",
       "<div id=\"altair-viz-a1e7252f082b4d85a690d5e8ebdf5cdb\"></div>\n",
       "<script type=\"text/javascript\">\n",
       "  (function(spec, embedOpt){\n",
       "    let outputDiv = document.currentScript.previousElementSibling;\n",
       "    if (outputDiv.id !== \"altair-viz-a1e7252f082b4d85a690d5e8ebdf5cdb\") {\n",
       "      outputDiv = document.getElementById(\"altair-viz-a1e7252f082b4d85a690d5e8ebdf5cdb\");\n",
       "    }\n",
       "    const paths = {\n",
       "      \"vega\": \"https://cdn.jsdelivr.net/npm//vega@5?noext\",\n",
       "      \"vega-lib\": \"https://cdn.jsdelivr.net/npm//vega-lib?noext\",\n",
       "      \"vega-lite\": \"https://cdn.jsdelivr.net/npm//vega-lite@4.8.1?noext\",\n",
       "      \"vega-embed\": \"https://cdn.jsdelivr.net/npm//vega-embed@6?noext\",\n",
       "    };\n",
       "\n",
       "    function loadScript(lib) {\n",
       "      return new Promise(function(resolve, reject) {\n",
       "        var s = document.createElement('script');\n",
       "        s.src = paths[lib];\n",
       "        s.async = true;\n",
       "        s.onload = () => resolve(paths[lib]);\n",
       "        s.onerror = () => reject(`Error loading script: ${paths[lib]}`);\n",
       "        document.getElementsByTagName(\"head\")[0].appendChild(s);\n",
       "      });\n",
       "    }\n",
       "\n",
       "    function showError(err) {\n",
       "      outputDiv.innerHTML = `<div class=\"error\" style=\"color:red;\">${err}</div>`;\n",
       "      throw err;\n",
       "    }\n",
       "\n",
       "    function displayChart(vegaEmbed) {\n",
       "      vegaEmbed(outputDiv, spec, embedOpt)\n",
       "        .catch(err => showError(`Javascript Error: ${err.message}<br>This usually means there's a typo in your chart specification. See the javascript console for the full traceback.`));\n",
       "    }\n",
       "\n",
       "    if(typeof define === \"function\" && define.amd) {\n",
       "      requirejs.config({paths});\n",
       "      require([\"vega-embed\"], displayChart, err => showError(`Error loading script: ${err.message}`));\n",
       "    } else if (typeof vegaEmbed === \"function\") {\n",
       "      displayChart(vegaEmbed);\n",
       "    } else {\n",
       "      loadScript(\"vega\")\n",
       "        .then(() => loadScript(\"vega-lite\"))\n",
       "        .then(() => loadScript(\"vega-embed\"))\n",
       "        .catch(showError)\n",
       "        .then(() => displayChart(vegaEmbed));\n",
       "    }\n",
       "  })({\"config\": {\"view\": {\"continuousWidth\": 400, \"continuousHeight\": 300}}, \"data\": {\"name\": \"data-35f710ae2b6c44696548e02a4affc654\"}, \"mark\": \"boxplot\", \"encoding\": {\"x\": {\"type\": \"nominal\", \"field\": \"Method\"}, \"y\": {\"type\": \"quantitative\", \"field\": \"RMSE\", \"scale\": {\"domain\": [0.2, 0.3]}}}, \"width\": 300, \"$schema\": \"https://vega.github.io/schema/vega-lite/v4.8.1.json\", \"datasets\": {\"data-35f710ae2b6c44696548e02a4affc654\": [{\"RMSE\": 0.21656962688360817, \"Method\": \"Bagging (ntrees=100)\"}, {\"RMSE\": 0.23127934137717623, \"Method\": \"Bagging (ntrees=100)\"}, {\"RMSE\": 0.22841762742437624, \"Method\": \"Bagging (ntrees=100)\"}, {\"RMSE\": 0.2235037633096935, \"Method\": \"Bagging (ntrees=100)\"}, {\"RMSE\": 0.22394552477666482, \"Method\": \"Bagging (ntrees=100)\"}, {\"RMSE\": 0.22860660306459782, \"Method\": \"Bagging (ntrees=100)\"}, {\"RMSE\": 0.23800565600783657, \"Method\": \"Bagging (ntrees=100)\"}, {\"RMSE\": 0.2257110361511335, \"Method\": \"Bagging (ntrees=100)\"}, {\"RMSE\": 0.22876392677004864, \"Method\": \"Bagging (ntrees=100)\"}, {\"RMSE\": 0.23583159160674524, \"Method\": \"Bagging (ntrees=100)\"}, {\"RMSE\": 0.23857166009097824, \"Method\": \"Bagging (ntrees=100)\"}, {\"RMSE\": 0.22487256676360973, \"Method\": \"Bagging (ntrees=100)\"}, {\"RMSE\": 0.2285450205436475, \"Method\": \"Bagging (ntrees=100)\"}, {\"RMSE\": 0.2300367298784312, \"Method\": \"Bagging (ntrees=100)\"}, {\"RMSE\": 0.22167131303679186, \"Method\": \"Bagging (ntrees=100)\"}, {\"RMSE\": 0.22727699035670668, \"Method\": \"Bagging (ntrees=100)\"}, {\"RMSE\": 0.23438117708349018, \"Method\": \"Bagging (ntrees=100)\"}, {\"RMSE\": 0.22190322132777668, \"Method\": \"Bagging (ntrees=100)\"}, {\"RMSE\": 0.2271456748498114, \"Method\": \"Bagging (ntrees=100)\"}, {\"RMSE\": 0.21992688400153085, \"Method\": \"Bagging (ntrees=100)\"}, {\"RMSE\": 0.22409148005879467, \"Method\": \"Bagging (ntrees=100)\"}, {\"RMSE\": 0.22889756071240108, \"Method\": \"Bagging (ntrees=100)\"}, {\"RMSE\": 0.23212779434968095, \"Method\": \"Bagging (ntrees=100)\"}, {\"RMSE\": 0.2283524723807111, \"Method\": \"Bagging (ntrees=100)\"}, {\"RMSE\": 0.22992430400088432, \"Method\": \"Bagging (ntrees=100)\"}, {\"RMSE\": 0.23488683395078372, \"Method\": \"Bagging (ntrees=100)\"}, {\"RMSE\": 0.2220531063002819, \"Method\": \"Bagging (ntrees=100)\"}, {\"RMSE\": 0.2312549907278984, \"Method\": \"Bagging (ntrees=100)\"}, {\"RMSE\": 0.23190832265095201, \"Method\": \"Bagging (ntrees=100)\"}, {\"RMSE\": 0.23623650184654885, \"Method\": \"Bagging (ntrees=100)\"}, {\"RMSE\": 0.23426675351204101, \"Method\": \"Bagging (ntrees=100)\"}, {\"RMSE\": 0.22486565044842582, \"Method\": \"Bagging (ntrees=100)\"}, {\"RMSE\": 0.22216474732045796, \"Method\": \"Bagging (ntrees=100)\"}, {\"RMSE\": 0.2273946425594776, \"Method\": \"Bagging (ntrees=100)\"}, {\"RMSE\": 0.2193328291393418, \"Method\": \"Bagging (ntrees=100)\"}, {\"RMSE\": 0.23425418288860456, \"Method\": \"Bagging (ntrees=100)\"}, {\"RMSE\": 0.22962960897683393, \"Method\": \"Bagging (ntrees=100)\"}, {\"RMSE\": 0.22310055355375016, \"Method\": \"Bagging (ntrees=100)\"}, {\"RMSE\": 0.22633299898393178, \"Method\": \"Bagging (ntrees=100)\"}, {\"RMSE\": 0.2443515501088918, \"Method\": \"Bagging (ntrees=100)\"}, {\"RMSE\": 0.22644363763299, \"Method\": \"Bagging (ntrees=100)\"}, {\"RMSE\": 0.23450418800397263, \"Method\": \"Bagging (ntrees=100)\"}, {\"RMSE\": 0.2277577137332991, \"Method\": \"Bagging (ntrees=100)\"}, {\"RMSE\": 0.22949147661378533, \"Method\": \"Bagging (ntrees=100)\"}, {\"RMSE\": 0.22475708733956648, \"Method\": \"Bagging (ntrees=100)\"}, {\"RMSE\": 0.23198656709712925, \"Method\": \"Bagging (ntrees=100)\"}, {\"RMSE\": 0.23847402927979097, \"Method\": \"Bagging (ntrees=100)\"}, {\"RMSE\": 0.23403845950836716, \"Method\": \"Bagging (ntrees=100)\"}, {\"RMSE\": 0.21780052304699943, \"Method\": \"Bagging (ntrees=100)\"}, {\"RMSE\": 0.21791715549062407, \"Method\": \"Bagging (ntrees=100)\"}, {\"RMSE\": 0.2189140476936712, \"Method\": \"Bagging (ntrees=25)\"}, {\"RMSE\": 0.23348260791522724, \"Method\": \"Bagging (ntrees=25)\"}, {\"RMSE\": 0.23074702768641042, \"Method\": \"Bagging (ntrees=25)\"}, {\"RMSE\": 0.22286192154427492, \"Method\": \"Bagging (ntrees=25)\"}, {\"RMSE\": 0.22526889760776692, \"Method\": \"Bagging (ntrees=25)\"}, {\"RMSE\": 0.2295410855440233, \"Method\": \"Bagging (ntrees=25)\"}, {\"RMSE\": 0.23849695195699122, \"Method\": \"Bagging (ntrees=25)\"}, {\"RMSE\": 0.2274950740017119, \"Method\": \"Bagging (ntrees=25)\"}, {\"RMSE\": 0.22868672878174162, \"Method\": \"Bagging (ntrees=25)\"}, {\"RMSE\": 0.23810156599357857, \"Method\": \"Bagging (ntrees=25)\"}, {\"RMSE\": 0.23938225183977563, \"Method\": \"Bagging (ntrees=25)\"}, {\"RMSE\": 0.22799037797558683, \"Method\": \"Bagging (ntrees=25)\"}, {\"RMSE\": 0.2302820907101982, \"Method\": \"Bagging (ntrees=25)\"}, {\"RMSE\": 0.231593726979756, \"Method\": \"Bagging (ntrees=25)\"}, {\"RMSE\": 0.22121225341404077, \"Method\": \"Bagging (ntrees=25)\"}, {\"RMSE\": 0.22894781533874864, \"Method\": \"Bagging (ntrees=25)\"}, {\"RMSE\": 0.2370491762744548, \"Method\": \"Bagging (ntrees=25)\"}, {\"RMSE\": 0.2236795281618612, \"Method\": \"Bagging (ntrees=25)\"}, {\"RMSE\": 0.2291052845292114, \"Method\": \"Bagging (ntrees=25)\"}, {\"RMSE\": 0.22242149630572866, \"Method\": \"Bagging (ntrees=25)\"}, {\"RMSE\": 0.22247549994798718, \"Method\": \"Bagging (ntrees=25)\"}, {\"RMSE\": 0.228762759808509, \"Method\": \"Bagging (ntrees=25)\"}, {\"RMSE\": 0.231789286255477, \"Method\": \"Bagging (ntrees=25)\"}, {\"RMSE\": 0.2275361661188141, \"Method\": \"Bagging (ntrees=25)\"}, {\"RMSE\": 0.231054364024806, \"Method\": \"Bagging (ntrees=25)\"}, {\"RMSE\": 0.2375916661912103, \"Method\": \"Bagging (ntrees=25)\"}, {\"RMSE\": 0.2262162819176013, \"Method\": \"Bagging (ntrees=25)\"}, {\"RMSE\": 0.23537635283053351, \"Method\": \"Bagging (ntrees=25)\"}, {\"RMSE\": 0.23445773731855443, \"Method\": \"Bagging (ntrees=25)\"}, {\"RMSE\": 0.2375741699011875, \"Method\": \"Bagging (ntrees=25)\"}, {\"RMSE\": 0.23475769915942032, \"Method\": \"Bagging (ntrees=25)\"}, {\"RMSE\": 0.2263956087023929, \"Method\": \"Bagging (ntrees=25)\"}, {\"RMSE\": 0.2234963486564415, \"Method\": \"Bagging (ntrees=25)\"}, {\"RMSE\": 0.2285624877585353, \"Method\": \"Bagging (ntrees=25)\"}, {\"RMSE\": 0.21938009515225063, \"Method\": \"Bagging (ntrees=25)\"}, {\"RMSE\": 0.23443759939661576, \"Method\": \"Bagging (ntrees=25)\"}, {\"RMSE\": 0.22954852594319436, \"Method\": \"Bagging (ntrees=25)\"}, {\"RMSE\": 0.22143420571847433, \"Method\": \"Bagging (ntrees=25)\"}, {\"RMSE\": 0.22840608424949752, \"Method\": \"Bagging (ntrees=25)\"}, {\"RMSE\": 0.2442167145338297, \"Method\": \"Bagging (ntrees=25)\"}, {\"RMSE\": 0.2278798654984677, \"Method\": \"Bagging (ntrees=25)\"}, {\"RMSE\": 0.23599395337196014, \"Method\": \"Bagging (ntrees=25)\"}, {\"RMSE\": 0.22877555156018844, \"Method\": \"Bagging (ntrees=25)\"}, {\"RMSE\": 0.2341393402405388, \"Method\": \"Bagging (ntrees=25)\"}, {\"RMSE\": 0.2298089129247469, \"Method\": \"Bagging (ntrees=25)\"}, {\"RMSE\": 0.2325781616434712, \"Method\": \"Bagging (ntrees=25)\"}, {\"RMSE\": 0.24329127547327709, \"Method\": \"Bagging (ntrees=25)\"}, {\"RMSE\": 0.23336577323410182, \"Method\": \"Bagging (ntrees=25)\"}, {\"RMSE\": 0.21962265408577936, \"Method\": \"Bagging (ntrees=25)\"}, {\"RMSE\": 0.22000171409407068, \"Method\": \"Bagging (ntrees=25)\"}, {\"RMSE\": 0.2459394465858011, \"Method\": \"Bagging (ntrees=2)\"}, {\"RMSE\": 0.24462627457490582, \"Method\": \"Bagging (ntrees=2)\"}, {\"RMSE\": 0.2594811592503803, \"Method\": \"Bagging (ntrees=2)\"}, {\"RMSE\": 0.24570962775727806, \"Method\": \"Bagging (ntrees=2)\"}, {\"RMSE\": 0.24168053980738224, \"Method\": \"Bagging (ntrees=2)\"}, {\"RMSE\": 0.25314943745241025, \"Method\": \"Bagging (ntrees=2)\"}, {\"RMSE\": 0.25601871851379004, \"Method\": \"Bagging (ntrees=2)\"}, {\"RMSE\": 0.24422754762868537, \"Method\": \"Bagging (ntrees=2)\"}, {\"RMSE\": 0.2530094232469149, \"Method\": \"Bagging (ntrees=2)\"}, {\"RMSE\": 0.26112223391939865, \"Method\": \"Bagging (ntrees=2)\"}, {\"RMSE\": 0.26008826175366145, \"Method\": \"Bagging (ntrees=2)\"}, {\"RMSE\": 0.25103044929968876, \"Method\": \"Bagging (ntrees=2)\"}, {\"RMSE\": 0.251931320265848, \"Method\": \"Bagging (ntrees=2)\"}, {\"RMSE\": 0.24890711689098532, \"Method\": \"Bagging (ntrees=2)\"}, {\"RMSE\": 0.23700403134431117, \"Method\": \"Bagging (ntrees=2)\"}, {\"RMSE\": 0.24500686868032312, \"Method\": \"Bagging (ntrees=2)\"}, {\"RMSE\": 0.2624166019317559, \"Method\": \"Bagging (ntrees=2)\"}, {\"RMSE\": 0.2542604578844189, \"Method\": \"Bagging (ntrees=2)\"}, {\"RMSE\": 0.2531211885857823, \"Method\": \"Bagging (ntrees=2)\"}, {\"RMSE\": 0.24502402572860196, \"Method\": \"Bagging (ntrees=2)\"}, {\"RMSE\": 0.24387741417455588, \"Method\": \"Bagging (ntrees=2)\"}, {\"RMSE\": 0.2560240613711889, \"Method\": \"Bagging (ntrees=2)\"}, {\"RMSE\": 0.2593953127273863, \"Method\": \"Bagging (ntrees=2)\"}, {\"RMSE\": 0.25237992527040987, \"Method\": \"Bagging (ntrees=2)\"}, {\"RMSE\": 0.24581162834782905, \"Method\": \"Bagging (ntrees=2)\"}, {\"RMSE\": 0.2554236149845362, \"Method\": \"Bagging (ntrees=2)\"}, {\"RMSE\": 0.2508092736987422, \"Method\": \"Bagging (ntrees=2)\"}, {\"RMSE\": 0.24870925550679282, \"Method\": \"Bagging (ntrees=2)\"}, {\"RMSE\": 0.2568823343375562, \"Method\": \"Bagging (ntrees=2)\"}, {\"RMSE\": 0.2618688048158314, \"Method\": \"Bagging (ntrees=2)\"}, {\"RMSE\": 0.26195933701977925, \"Method\": \"Bagging (ntrees=2)\"}, {\"RMSE\": 0.24819645480238076, \"Method\": \"Bagging (ntrees=2)\"}, {\"RMSE\": 0.2547475996924756, \"Method\": \"Bagging (ntrees=2)\"}, {\"RMSE\": 0.2424267964162975, \"Method\": \"Bagging (ntrees=2)\"}, {\"RMSE\": 0.24660805576740777, \"Method\": \"Bagging (ntrees=2)\"}, {\"RMSE\": 0.2643938647615188, \"Method\": \"Bagging (ntrees=2)\"}, {\"RMSE\": 0.25860483657278044, \"Method\": \"Bagging (ntrees=2)\"}, {\"RMSE\": 0.24851187183066634, \"Method\": \"Bagging (ntrees=2)\"}, {\"RMSE\": 0.25201902776521057, \"Method\": \"Bagging (ntrees=2)\"}, {\"RMSE\": 0.263261453118984, \"Method\": \"Bagging (ntrees=2)\"}, {\"RMSE\": 0.25513763988024213, \"Method\": \"Bagging (ntrees=2)\"}, {\"RMSE\": 0.25652375129984545, \"Method\": \"Bagging (ntrees=2)\"}, {\"RMSE\": 0.2502135102563562, \"Method\": \"Bagging (ntrees=2)\"}, {\"RMSE\": 0.25560747997574196, \"Method\": \"Bagging (ntrees=2)\"}, {\"RMSE\": 0.24683930295845896, \"Method\": \"Bagging (ntrees=2)\"}, {\"RMSE\": 0.2518089920810862, \"Method\": \"Bagging (ntrees=2)\"}, {\"RMSE\": 0.25457910245495247, \"Method\": \"Bagging (ntrees=2)\"}, {\"RMSE\": 0.2511414019833401, \"Method\": \"Bagging (ntrees=2)\"}, {\"RMSE\": 0.2375124121509703, \"Method\": \"Bagging (ntrees=2)\"}, {\"RMSE\": 0.24017592689277734, \"Method\": \"Bagging (ntrees=2)\"}, {\"RMSE\": 0.2171222409162828, \"Method\": \"Boosting (max_ntrees=100)\"}, {\"RMSE\": 0.229317479576057, \"Method\": \"Boosting (max_ntrees=100)\"}, {\"RMSE\": 0.23003148332184076, \"Method\": \"Boosting (max_ntrees=100)\"}, {\"RMSE\": 0.21592722410447454, \"Method\": \"Boosting (max_ntrees=100)\"}, {\"RMSE\": 0.2230451864721914, \"Method\": \"Boosting (max_ntrees=100)\"}, {\"RMSE\": 0.22492120849014904, \"Method\": \"Boosting (max_ntrees=100)\"}, {\"RMSE\": 0.2379866645343107, \"Method\": \"Boosting (max_ntrees=100)\"}, {\"RMSE\": 0.22472640516896564, \"Method\": \"Boosting (max_ntrees=100)\"}, {\"RMSE\": 0.22227991174693518, \"Method\": \"Boosting (max_ntrees=100)\"}, {\"RMSE\": 0.2312209546658384, \"Method\": \"Boosting (max_ntrees=100)\"}, {\"RMSE\": 0.2263651475698427, \"Method\": \"Boosting (max_ntrees=100)\"}, {\"RMSE\": 0.22627351095886983, \"Method\": \"Boosting (max_ntrees=100)\"}, {\"RMSE\": 0.22854023496845347, \"Method\": \"Boosting (max_ntrees=100)\"}, {\"RMSE\": 0.22567136231557292, \"Method\": \"Boosting (max_ntrees=100)\"}, {\"RMSE\": 0.21983993807825283, \"Method\": \"Boosting (max_ntrees=100)\"}, {\"RMSE\": 0.23079831291792266, \"Method\": \"Boosting (max_ntrees=100)\"}, {\"RMSE\": 0.22593427674063452, \"Method\": \"Boosting (max_ntrees=100)\"}, {\"RMSE\": 0.22680070345229322, \"Method\": \"Boosting (max_ntrees=100)\"}, {\"RMSE\": 0.22533482375332037, \"Method\": \"Boosting (max_ntrees=100)\"}, {\"RMSE\": 0.22342813417964605, \"Method\": \"Boosting (max_ntrees=100)\"}, {\"RMSE\": 0.23175878751294376, \"Method\": \"Boosting (max_ntrees=100)\"}, {\"RMSE\": 0.23595615118675237, \"Method\": \"Boosting (max_ntrees=100)\"}, {\"RMSE\": 0.2296598318365167, \"Method\": \"Boosting (max_ntrees=100)\"}, {\"RMSE\": 0.22758975909691562, \"Method\": \"Boosting (max_ntrees=100)\"}, {\"RMSE\": 0.2228900886770328, \"Method\": \"Boosting (max_ntrees=100)\"}, {\"RMSE\": 0.24414059289631176, \"Method\": \"Boosting (max_ntrees=100)\"}, {\"RMSE\": 0.22346361450543395, \"Method\": \"Boosting (max_ntrees=100)\"}, {\"RMSE\": 0.22584381975283072, \"Method\": \"Boosting (max_ntrees=100)\"}, {\"RMSE\": 0.23123815800490283, \"Method\": \"Boosting (max_ntrees=100)\"}, {\"RMSE\": 0.24165622537493742, \"Method\": \"Boosting (max_ntrees=100)\"}, {\"RMSE\": 0.22805194234918283, \"Method\": \"Boosting (max_ntrees=100)\"}, {\"RMSE\": 0.21917567195381238, \"Method\": \"Boosting (max_ntrees=100)\"}, {\"RMSE\": 0.2256790478876625, \"Method\": \"Boosting (max_ntrees=100)\"}, {\"RMSE\": 0.2299279699579699, \"Method\": \"Boosting (max_ntrees=100)\"}, {\"RMSE\": 0.2208207792177795, \"Method\": \"Boosting (max_ntrees=100)\"}, {\"RMSE\": 0.22164573995366732, \"Method\": \"Boosting (max_ntrees=100)\"}, {\"RMSE\": 0.23380101383062282, \"Method\": \"Boosting (max_ntrees=100)\"}, {\"RMSE\": 0.2231798753991582, \"Method\": \"Boosting (max_ntrees=100)\"}, {\"RMSE\": 0.21965356845903122, \"Method\": \"Boosting (max_ntrees=100)\"}, {\"RMSE\": 0.2389680660342822, \"Method\": \"Boosting (max_ntrees=100)\"}, {\"RMSE\": 0.23192022379616234, \"Method\": \"Boosting (max_ntrees=100)\"}, {\"RMSE\": 0.23698539391007173, \"Method\": \"Boosting (max_ntrees=100)\"}, {\"RMSE\": 0.22196283437006134, \"Method\": \"Boosting (max_ntrees=100)\"}, {\"RMSE\": 0.23472765013365743, \"Method\": \"Boosting (max_ntrees=100)\"}, {\"RMSE\": 0.2240221463041687, \"Method\": \"Boosting (max_ntrees=100)\"}, {\"RMSE\": 0.2341618696285981, \"Method\": \"Boosting (max_ntrees=100)\"}, {\"RMSE\": 0.23152411818426055, \"Method\": \"Boosting (max_ntrees=100)\"}, {\"RMSE\": 0.24070441472510531, \"Method\": \"Boosting (max_ntrees=100)\"}, {\"RMSE\": 0.2102086039940845, \"Method\": \"Boosting (max_ntrees=100)\"}, {\"RMSE\": 0.22349962217030328, \"Method\": \"Boosting (max_ntrees=100)\"}]}}, {\"mode\": \"vega-lite\"});\n",
       "</script>"
      ],
      "text/plain": [
       "alt.Chart(...)"
      ]
     },
     "execution_count": 24,
     "metadata": {},
     "output_type": "execute_result"
    }
   ],
   "source": [
    "import altair as alt\n",
    "\n",
    "alt.Chart(results).mark_boxplot().encode(\n",
    "    alt.Y(\"RMSE:Q\", scale=alt.Scale(domain=[0.2, 0.3])),\n",
    "    x='Method',\n",
    ").properties(width=300)"
   ]
  },
  {
   "cell_type": "markdown",
   "metadata": {},
   "source": [
    "**Problem 3.** How would you compare (using t-test) whether the boosting algorithm is better than bagging (ntrees=100)?"
   ]
  },
  {
   "cell_type": "code",
   "execution_count": 25,
   "metadata": {},
   "outputs": [
    {
     "data": {
      "text/plain": [
       "Ttest_indResult(statistic=0.6671977178658324, pvalue=0.5062138342634575)"
      ]
     },
     "execution_count": 25,
     "metadata": {},
     "output_type": "execute_result"
    }
   ],
   "source": [
    "# Your solution here"
   ]
  },
  {
   "cell_type": "code",
   "execution_count": 26,
   "metadata": {},
   "outputs": [],
   "source": [
    "# Good job!\n",
    "# Don't forget to push with ./submit.sh"
   ]
  },
  {
   "cell_type": "markdown",
   "metadata": {},
   "source": [
    "#### Having trouble with the test cases and the autograder?\n",
    "\n",
    "You can always load up the answers for the autograder. The autograder runs your code and compares your answer to the expected answer. I manually review your code, so there is no need to hide this from you.\n",
    "\n",
    "```python\n",
    "import joblib\n",
    "answers = joblib.load(f\"{home}/csc-466-student/tests/answers_Lab5.joblib\")\n",
    "answers.keys()\n",
    "```"
   ]
  },
  {
   "cell_type": "code",
   "execution_count": null,
   "metadata": {},
   "outputs": [],
   "source": []
  }
 ],
 "metadata": {
  "jupytext": {
   "formats": "ipynb,md"
  },
  "kernelspec": {
   "display_name": "Python 3",
   "language": "python",
   "name": "python3"
  },
  "language_info": {
   "codemirror_mode": {
    "name": "ipython",
    "version": 3
   },
   "file_extension": ".py",
   "mimetype": "text/x-python",
   "name": "python",
   "nbconvert_exporter": "python",
   "pygments_lexer": "ipython3",
   "version": "3.7.3"
  }
 },
 "nbformat": 4,
 "nbformat_minor": 4
}
