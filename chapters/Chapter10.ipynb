{
 "cells": [
  {
   "cell_type": "markdown",
   "metadata": {},
   "source": [
    "# PageRank Implementation and Intuition"
   ]
  },
  {
   "cell_type": "markdown",
   "metadata": {},
   "source": [
    "## History of Page Rank\n",
    "\"Larry Page and Sergey Brin developed PageRank at Stanford University in 1996 as part of a research project about a new kind of search engine. An interview with Hector Garcia-Molina: Stanford Computer Science Professor and Advisor to Sergey [21] provides background into the development of the page-rank algorithm. [22] Sergey Brin had the idea that information on the web could be ordered in a hierarchy by \"link popularity\": a page ranks higher as there are more links to it.[23] The system was developed with the help of Scott Hassan and Alan Steremberg, both of whom were cited by Page and Brin as being critical to the development of Google.[6] Rajeev Motwani and Terry Winograd co-authored with Page and Brin the first paper about the project, describing PageRank and the initial prototype of the Google search engine, published in 1998.[6] Shortly after, Page and Brin founded Google Inc., the company behind the Google search engine. While just one of many factors that determine the ranking of Google search results, PageRank continues to provide the basis for all of Google's web-search tools.[24]\" - https://en.wikipedia.org/wiki/PageRank#History"
   ]
  },
  {
   "cell_type": "markdown",
   "metadata": {},
   "source": [
    "## Implementation Notes\n",
    "* Use an adjanceny list instead of a adjancency matrix because of the sparcity of links\n",
    "* No self links\n",
    "* All multiple links between page A and B become a single link\n",
    "* Portions of the intuition of this lecture comes from https://courses.cs.washington.edu/courses/cse373/17au/project3/project3-3.html"
   ]
  },
  {
   "cell_type": "markdown",
   "metadata": {},
   "source": [
    "## Overview of algorithm\n",
    "PageRank does not take into a user's query. It is based soley on the links between webpages. We can think of PageRank as a measure of how likely someone is to naturally stumble across webpage A. If a lot of other webpages link to A, then A is more \"important\".\n",
    "\n",
    "We also want to capture the idea that is webpage A is important and A links to B, then B is also probably important. It shares some of the importance that was measured for A."
   ]
  },
  {
   "cell_type": "markdown",
   "metadata": {},
   "source": [
    "### Example graph 1\n",
    "Simple graph where A is the most important node. PageRank starts by giving each webpage (node) a score of 1/N, where N is the number of nodes (webpages) in the graph."
   ]
  },
  {
   "cell_type": "code",
   "execution_count": 1,
   "metadata": {},
   "outputs": [],
   "source": [
    "%matplotlib inline \n",
    "import matplotlib.pyplot as plt\n",
    "plt.rcParams[\"figure.figsize\"] = (10,10)\n",
    "import networkx as nx\n",
    "import pandas as pd"
   ]
  },
  {
   "cell_type": "code",
   "execution_count": 4,
   "metadata": {},
   "outputs": [],
   "source": [
    "nx.draw_networkx_edges?"
   ]
  },
  {
   "cell_type": "code",
   "execution_count": 16,
   "metadata": {},
   "outputs": [
    {
     "data": {
      "image/png": "[encoded data removed]",
      "text/plain": [
       "<Figure size 720x720 with 1 Axes>"
      ]
     },
     "metadata": {},
     "output_type": "display_data"
    }
   ],
   "source": [
    "N = 4 # a,b,c,d ... example includes 4 webpages\n",
    "\n",
    "# We are using networkx directed graph. \n",
    "G = nx.DiGraph()\n",
    "\n",
    "# We first add the nodes each with a page rank score of 1/N (i.e., all scores sum to 1)\n",
    "G.add_node('a', score=1/N)\n",
    "G.add_node('b', score=1/N)\n",
    "G.add_node('c', score=1/N)\n",
    "G.add_node('d', score=1/N)\n",
    "\n",
    "# We then create this specific example\n",
    "G.add_edge('a', 'b')\n",
    "G.add_edge('b', 'a')\n",
    "G.add_edge('a', 'c')\n",
    "G.add_edge('c', 'a')\n",
    "G.add_edge('a', 'd')\n",
    "G.add_edge('d', 'a')\n",
    "\n",
    "def plot(G):\n",
    "    pos = nx.circular_layout(G)  # positions for all nodes\n",
    "\n",
    "    node_size=4500\n",
    "\n",
    "    # labels\n",
    "    labels=dict((n,\"%s:%.2f\"%(n,d['score'])) for n,d in G.nodes(data=True))\n",
    "    #nx.draw_networkx_labels(G, pos, labels=labels, font_size=20, font_family='sans-serif')\n",
    "\n",
    "    nx.draw_networkx_edges(G, pos=pos, alpha=0.3, arrows=True,\n",
    "            arrowsize=20, width=2)\n",
    "    # draw white circles over the lines\n",
    "    nx.draw_networkx_edges(G, pos=pos, alpha=1, arrows=True,\n",
    "            arrowsize=20, width=2)\n",
    "    # draw the nodes as desired\n",
    "    nx.draw_networkx_nodes(G, pos=pos, node_size=node_size, alpha=.3,node_color='grey')\n",
    "    nx.draw_networkx_labels(G, labels=labels,pos=pos)\n",
    "\n",
    "    plt.axis('off')\n",
    "    plt.show()\n",
    "plot(G)"
   ]
  },
  {
   "cell_type": "markdown",
   "metadata": {},
   "source": [
    "Next, we will take the old page rank for every webpage and equally share it with every web page it links to.\n",
    "\n",
    "That is, we loop through each vertex (each webpage) and increase the new rank for every adjacent vertex by the following amount:\n",
    "$$\n",
    "d*\\frac{\\mbox{old page rank}}{\\mbox{number of unique links}}\n",
    "$$\n",
    "Here, $d$ is the \"decay\" factor: it's a parameter that represents the rate at which your surfers are willing to \"continue clicking\" a link. We usually set $d$ equal to roughly 0.85. This means that about 85% of your users will be willing to continue visiting new web pages. The other 15% simply stop where they are.\n",
    "\n",
    "This decay factor also helps our page ranks converge: they ensure that every time we run the update step, our page ranks change less and less. Note that the closer we set $d$ to 0, the faster we converge (but the more inaccurate are results are likely to be).\n",
    "\n",
    "If the web page has no links, we assume those visitors jump to a random webpage. That is, if the current page has no outgoing links, increase the new page rank of every webpage by:\n",
    "$$\n",
    "d*\\frac{\\mbox{old page rank}}{N}\n",
    "$$\n",
    "\n",
    "One final step: We need to add $(1-d)/N$ to every webpage's new page rank. The technical reason we do this is to make sure our page ranks in total represent a valid probability distribution: we don't want to actually \"lose\" web surfers when we apply the decay factor.\n",
    "\n",
    "Alternatively, you can think of this value as representing the probability some random person starts on the current webpage out-of-the-blue.\n",
    "\n",
    "**Let's perform an update! (but we will do so not 100% correctly)**. Here is our current set of nodes with their scores. Followed by our set of edges."
   ]
  },
  {
   "cell_type": "code",
   "execution_count": null,
   "metadata": {},
   "outputs": [],
   "source": [
    "# here is how we access the current scores and we keep track of them in two ways. The first is easy access, and\n",
    "# the second is for easy update\n",
    "scores=dict((n,d['score']) for n,d in G.nodes(data=True))\n",
    "attrs=dict((n,{\"score\":d['score']}) for n,d in G.nodes(data=True))\n",
    "print(\"scores\")\n",
    "display(scores)\n",
    "print(\"attrs\")\n",
    "display(attrs)"
   ]
  },
  {
   "cell_type": "code",
   "execution_count": null,
   "metadata": {},
   "outputs": [],
   "source": [
    "plot(G)"
   ]
  },
  {
   "cell_type": "markdown",
   "metadata": {},
   "source": [
    "### Computing counts (i.e., number of unique links)\n",
    "Counts is the out-degree of each node"
   ]
  },
  {
   "cell_type": "code",
   "execution_count": null,
   "metadata": {},
   "outputs": [],
   "source": [
    "counts={} # number of unique links going out of each node\n",
    "for n in G.nodes():\n",
    "    counts[n] = 0\n",
    "for u,v in G.edges():\n",
    "    counts[u]+=1\n",
    "pd.Series(counts)"
   ]
  },
  {
   "cell_type": "markdown",
   "metadata": {},
   "source": [
    "### Building a datastructure that contains all the links coming into a node\n",
    "Each iteration of page rank, \"people\"/scores move between nodes. When we update a node, we need to know what nodes are linked to that node (i.e., reverse of following a link)"
   ]
  },
  {
   "cell_type": "code",
   "execution_count": null,
   "metadata": {},
   "outputs": [],
   "source": [
    "edges = {} # keep track of the links that are coming into a node\n",
    "for n in G.nodes():\n",
    "    edges[n] = []\n",
    "for u,v in G.edges():\n",
    "    edges[v].append(u)\n",
    "edges"
   ]
  },
  {
   "cell_type": "markdown",
   "metadata": {},
   "source": [
    "### Now perform one update (but with some problems)"
   ]
  },
  {
   "cell_type": "code",
   "execution_count": null,
   "metadata": {},
   "outputs": [],
   "source": [
    "d = 0.85 # define our decay\n",
    "                \n",
    "scores=dict((n,d['score']) for n,d in G.nodes(data=True))\n",
    "attrs=dict((n,{\"score\":d['score']}) for n,d in G.nodes(data=True))\n",
    "\n",
    "for v in counts.keys():\n",
    "    attrs[v]['score'] = 0\n",
    "    for u in edges[v]:\n",
    "        attrs[v]['score'] += d*scores[u]/counts[u]\n",
    "nx.set_node_attributes(G, attrs)\n",
    "plot(G)\n",
    "attrs"
   ]
  },
  {
   "cell_type": "markdown",
   "metadata": {},
   "source": [
    "**What is the problem with these scores? Do they sum to 1?**"
   ]
  },
  {
   "cell_type": "code",
   "execution_count": null,
   "metadata": {},
   "outputs": [],
   "source": [
    "s = 0\n",
    "for u in attrs.keys():\n",
    "    s += attrs[u]['score']\n",
    "s"
   ]
  },
  {
   "cell_type": "markdown",
   "metadata": {},
   "source": [
    "**How do we fix this so they sum to 1?** Well. From each node we lost 0.85 because of the decay factor. Let's add that back in to all nodes!"
   ]
  },
  {
   "cell_type": "code",
   "execution_count": null,
   "metadata": {},
   "outputs": [],
   "source": [
    "N = 4 # a,b,c,d ... example includes 4 webpages\n",
    "\n",
    "# We are using networkx directed graph. \n",
    "G = nx.DiGraph()\n",
    "\n",
    "# We first add the nodes each with a page rank score of 1/N (i.e., all scores sum to 1)\n",
    "G.add_node('a', score=1/N)\n",
    "G.add_node('b', score=1/N)\n",
    "G.add_node('c', score=1/N)\n",
    "G.add_node('d', score=1/N)\n",
    "\n",
    "# We then create this specific example\n",
    "G.add_edge('a', 'b')\n",
    "G.add_edge('b', 'a')\n",
    "G.add_edge('a', 'c')\n",
    "G.add_edge('c', 'a')\n",
    "G.add_edge('a', 'd')\n",
    "G.add_edge('d', 'a')\n",
    "\n",
    "counts={} # number of unique links going out of each node\n",
    "for n in G.nodes():\n",
    "    counts[n] = 0\n",
    "for u,v in G.edges():\n",
    "    counts[u] += 1\n",
    "\n",
    "edges = {} # keep track of the links that are coming into a node\n",
    "for n in G.nodes():\n",
    "    edges[n] = []\n",
    "for u,v in G.edges():\n",
    "    edges[v].append(u) # reverse the order (edge is from u->v but our data structure is from v->u)\n",
    "\n",
    "d = 0.85 # define our decay\n",
    "                \n",
    "scores=dict((n,d['score']) for n,d in G.nodes(data=True))\n",
    "attrs=dict((n,{\"score\":d['score']}) for n,d in G.nodes(data=True))\n",
    "\n",
    "for v in counts.keys():\n",
    "    attrs[v]['score'] = (1-d)/len(G.nodes())\n",
    "    for u in edges[v]:\n",
    "        attrs[v]['score'] += d*scores[u]/counts[u]\n",
    "nx.set_node_attributes(G, attrs)\n",
    "plot(G)\n",
    "attrs"
   ]
  },
  {
   "cell_type": "code",
   "execution_count": null,
   "metadata": {},
   "outputs": [],
   "source": [
    "s = 0\n",
    "for u in attrs.keys():\n",
    "    s += attrs[u]['score']\n",
    "s"
   ]
  },
  {
   "cell_type": "markdown",
   "metadata": {},
   "source": [
    "Looks good to me!\n",
    "\n",
    "Here is some intuition. Remember, the score represents \"the percentage of surfers present on the page\". So, after iteration 1, about 67.5% percent of our web surfers are present on page A. Pages B, C, and D all have about 10.8333...% of the surfers each. This seems to roughly be what we want! If more surfers are on page A, then it's likely that it's a \"more important page\".\n",
    "\n",
    "But did we miss anything else? Consider add a node that doesn't have any outlinks."
   ]
  },
  {
   "cell_type": "code",
   "execution_count": null,
   "metadata": {},
   "outputs": [],
   "source": [
    "N = 5 # a,b,c,d,e ... example includes 4 webpages\n",
    "\n",
    "# We are using networkx directed graph. \n",
    "G = nx.DiGraph()\n",
    "\n",
    "# We first add the nodes each with a page rank score of 1/N (i.e., all scores sum to 1)\n",
    "G.add_node('a', score=1/N)\n",
    "G.add_node('b', score=1/N)\n",
    "G.add_node('c', score=1/N)\n",
    "G.add_node('d', score=1/N)\n",
    "G.add_node('e', score=1/N)\n",
    "\n",
    "# We then create this specific example\n",
    "G.add_edge('a', 'b')\n",
    "G.add_edge('b', 'a')\n",
    "G.add_edge('a', 'c')\n",
    "G.add_edge('c', 'a')\n",
    "G.add_edge('a', 'd')\n",
    "G.add_edge('d', 'a')\n",
    "G.add_edge('a','e')\n",
    "\n",
    "counts={} # number of unique links going out of each node\n",
    "for n in G.nodes():\n",
    "    counts[n] = 0\n",
    "for u,v in G.edges():\n",
    "    counts[u] += 1\n",
    "\n",
    "edges = {} # keep track of the links that are coming into a node\n",
    "for n in G.nodes():\n",
    "    edges[n] = []\n",
    "for u,v in G.edges():\n",
    "    edges[v].append(u) # reverse the order (edge is from u->v but our data structure is from v->u)\n",
    "\n",
    "d = 0.85 # define our decay\n",
    "                \n",
    "scores=dict((n,d['score']) for n,d in G.nodes(data=True))\n",
    "attrs=dict((n,{\"score\":d['score']}) for n,d in G.nodes(data=True))\n",
    "\n",
    "for v in counts.keys():\n",
    "    attrs[v]['score'] = (1-d)/len(G.nodes())\n",
    "    for u in edges[v]:\n",
    "        attrs[v]['score'] += d*scores[u]/counts[u]\n",
    "nx.set_node_attributes(G, attrs)\n",
    "plot(G)\n",
    "attrs"
   ]
  },
  {
   "cell_type": "code",
   "execution_count": null,
   "metadata": {},
   "outputs": [],
   "source": [
    "s = 0\n",
    "for u in attrs.keys():\n",
    "    s += attrs[u]['score']\n",
    "s"
   ]
  },
  {
   "cell_type": "markdown",
   "metadata": {},
   "source": [
    "**What the heck?!** Did we just solve that problem? Well. This algorithm is all about movement with a decay, and so when the new node ``e`` is updated, we are losing its current visitors because it is a sink. The fix is in our original outline. We need to distribute the score at ``e`` to other nodes randomly."
   ]
  },
  {
   "cell_type": "code",
   "execution_count": null,
   "metadata": {},
   "outputs": [],
   "source": [
    "N = 5 # a,b,c,d,e ... example includes 4 webpages\n",
    "\n",
    "# We are using networkx directed graph. \n",
    "G = nx.DiGraph()\n",
    "\n",
    "# We first add the nodes each with a page rank score of 1/N (i.e., all scores sum to 1)\n",
    "G.add_node('a', score=1/N)\n",
    "G.add_node('b', score=1/N)\n",
    "G.add_node('c', score=1/N)\n",
    "G.add_node('d', score=1/N)\n",
    "G.add_node('e', score=1/N)\n",
    "\n",
    "# We then create this specific example\n",
    "G.add_edge('a', 'b')\n",
    "G.add_edge('b', 'a')\n",
    "G.add_edge('a', 'c')\n",
    "G.add_edge('c', 'a')\n",
    "G.add_edge('a', 'd')\n",
    "G.add_edge('d', 'a')\n",
    "G.add_edge('a','e')\n",
    "\n",
    "counts={} # number of unique links going out of each node\n",
    "for n in G.nodes():\n",
    "    counts[n] = 0\n",
    "for u,v in G.edges():\n",
    "    if u not in counts:\n",
    "        counts[u] = 0\n",
    "    counts[u] += 1\n",
    "    \n",
    "#########################################################\n",
    "# new\n",
    "counts_series = pd.Series(counts)\n",
    "sinks = list(counts_series.index[counts_series == 0])\n",
    "#########################################################\n",
    "\n",
    "edges = {} # keep track of the links that are coming into a node\n",
    "for n in G.nodes():\n",
    "    edges[n] = []\n",
    "for u,v in G.edges():\n",
    "    edges[v].append(u) # reverse the order (edge is from u->v but our data structure is from v->u)\n",
    "\n",
    "d = 0.85 # define our decay\n",
    "                \n",
    "scores=dict((n,d['score']) for n,d in G.nodes(data=True))\n",
    "attrs=dict((n,{\"score\":d['score']}) for n,d in G.nodes(data=True))\n",
    "\n",
    "for v in counts.keys():\n",
    "    attrs[v]['score'] = (1-d)/len(G.nodes())\n",
    "    for u in edges[v]:\n",
    "        attrs[v]['score'] += d*scores[u]/counts[u]\n",
    "\n",
    "for u in sinks:\n",
    "    for n in G.nodes():\n",
    "        attrs[n]['score'] += d*scores[u]/len(G.nodes())\n",
    "nx.set_node_attributes(G, attrs)\n",
    "plot(G)\n",
    "attrs"
   ]
  },
  {
   "cell_type": "code",
   "execution_count": null,
   "metadata": {},
   "outputs": [],
   "source": [
    "s = 0\n",
    "for u in attrs.keys():\n",
    "    s += attrs[u]['score']\n",
    "s"
   ]
  },
  {
   "cell_type": "markdown",
   "metadata": {},
   "source": [
    "This is looking good, so let's put it in a function. A function that performs one iteration of page rank."
   ]
  },
  {
   "cell_type": "code",
   "execution_count": null,
   "metadata": {},
   "outputs": [],
   "source": [
    "def one_iteration(G,d=0.85):\n",
    "    counts={} # number of unique links going out of each node\n",
    "    # Initialize everything\n",
    "    for n in G.nodes():\n",
    "        # You solution here\n",
    "        \n",
    "    for u,v in G.edges():\n",
    "        # You solution here\n",
    "\n",
    "    counts_series = pd.Series(counts)\n",
    "    sinks = list(counts_series.index[counts_series == 0])\n",
    "\n",
    "    # Initialize again\n",
    "    edges = {} # keep track of the links that are coming into a node\n",
    "    for n in G.nodes():\n",
    "        # Your solution here\n",
    "        \n",
    "    for u,v in G.edges():\n",
    "        # Your solution here\n",
    "\n",
    "    scores=dict((n,d['score']) for n,d in G.nodes(data=True))\n",
    "    attrs=dict((n,{\"score\":d['score']}) for n,d in G.nodes(data=True))\n",
    "\n",
    "    for v in counts.keys():\n",
    "        # Your solution here\n",
    "\n",
    "    for u in sinks:\n",
    "        # Your solution here\n",
    "    nx.set_node_attributes(G, attrs)"
   ]
  },
  {
   "cell_type": "code",
   "execution_count": null,
   "metadata": {},
   "outputs": [],
   "source": [
    "# Test it just once\n",
    "G = nx.DiGraph()\n",
    "N = 5\n",
    "\n",
    "# We first add the nodes each with a page rank score of 1/N (i.e., all scores sum to 1)\n",
    "G.add_node('a', score=1/N)\n",
    "G.add_node('b', score=1/N)\n",
    "G.add_node('c', score=1/N)\n",
    "G.add_node('d', score=1/N)\n",
    "G.add_node('e', score=1/N)\n",
    "\n",
    "# We then create this specific example\n",
    "G.add_edge('a', 'b')\n",
    "G.add_edge('b', 'a')\n",
    "G.add_edge('a', 'c')\n",
    "G.add_edge('c', 'a')\n",
    "G.add_edge('a', 'd')\n",
    "G.add_edge('d', 'a')\n",
    "G.add_edge('a','e')\n",
    "\n",
    "one_iteration(G)\n",
    "plot(G)"
   ]
  },
  {
   "cell_type": "markdown",
   "metadata": {},
   "source": [
    "## Stop and experiment\n",
    "What do you think would have happened if we had increased or decreased $d$?"
   ]
  },
  {
   "cell_type": "code",
   "execution_count": null,
   "metadata": {},
   "outputs": [],
   "source": [
    "# Test it just once\n",
    "G = nx.DiGraph()\n",
    "N = 5\n",
    "\n",
    "# We first add the nodes each with a page rank score of 1/N (i.e., all scores sum to 1)\n",
    "G.add_node('a', score=1/N)\n",
    "G.add_node('b', score=1/N)\n",
    "G.add_node('c', score=1/N)\n",
    "G.add_node('d', score=1/N)\n",
    "G.add_node('e', score=1/N)\n",
    "\n",
    "# We then create this specific example\n",
    "G.add_edge('a', 'b')\n",
    "G.add_edge('b', 'a')\n",
    "G.add_edge('a', 'c')\n",
    "G.add_edge('c', 'a')\n",
    "G.add_edge('a', 'd')\n",
    "G.add_edge('d', 'a')\n",
    "G.add_edge('a','e')\n",
    "\n",
    "one_iteration(G,d=0.75)\n",
    "plot(G)"
   ]
  },
  {
   "cell_type": "markdown",
   "metadata": {},
   "source": [
    "**What can you say is happening when we change $d$? Do you think a lower or higher value is better?**"
   ]
  },
  {
   "cell_type": "markdown",
   "metadata": {},
   "source": [
    "## Finishing our algorithm\n",
    "If we go back to $d$ of 0.85, and we reinitialize our graph, then what happens as we run page run over multiple iterations?"
   ]
  },
  {
   "cell_type": "markdown",
   "metadata": {},
   "source": [
    "### Initalize our graph again"
   ]
  },
  {
   "cell_type": "code",
   "execution_count": null,
   "metadata": {},
   "outputs": [],
   "source": [
    "G = nx.DiGraph()\n",
    "N = 5\n",
    "\n",
    "# We first add the nodes each with a page rank score of 1/N (i.e., all scores sum to 1)\n",
    "G.add_node('a', score=1/N)\n",
    "G.add_node('b', score=1/N)\n",
    "G.add_node('c', score=1/N)\n",
    "G.add_node('d', score=1/N)\n",
    "G.add_node('e', score=1/N)\n",
    "\n",
    "# We then create this specific example\n",
    "G.add_edge('a', 'b')\n",
    "G.add_edge('b', 'a')\n",
    "G.add_edge('a', 'c')\n",
    "G.add_edge('c', 'a')\n",
    "G.add_edge('a', 'd')\n",
    "G.add_edge('d', 'a')\n",
    "G.add_edge('a','e')\n",
    "\n",
    "plot(G)"
   ]
  },
  {
   "cell_type": "markdown",
   "metadata": {},
   "source": [
    "### Run iteration 1 and plot"
   ]
  },
  {
   "cell_type": "code",
   "execution_count": null,
   "metadata": {},
   "outputs": [],
   "source": [
    "one_iteration(G)\n",
    "plot(G)"
   ]
  },
  {
   "cell_type": "markdown",
   "metadata": {},
   "source": [
    "### Update a second time"
   ]
  },
  {
   "cell_type": "code",
   "execution_count": null,
   "metadata": {},
   "outputs": [],
   "source": [
    "one_iteration(G)\n",
    "plot(G)"
   ]
  },
  {
   "cell_type": "markdown",
   "metadata": {},
   "source": [
    "Looking at the graph again the web surfers move again, page A now only has about 31.4% of the web surfers; pages B, C, and D all have about 22.88% each."
   ]
  },
  {
   "cell_type": "markdown",
   "metadata": {},
   "source": [
    "### A third time"
   ]
  },
  {
   "cell_type": "code",
   "execution_count": null,
   "metadata": {},
   "outputs": [],
   "source": [
    "one_iteration(G)\n",
    "plot(G)"
   ]
  },
  {
   "cell_type": "markdown",
   "metadata": {},
   "source": [
    "### A fourth time"
   ]
  },
  {
   "cell_type": "code",
   "execution_count": null,
   "metadata": {},
   "outputs": [],
   "source": [
    "one_iteration(G)\n",
    "plot(G)"
   ]
  },
  {
   "cell_type": "markdown",
   "metadata": {},
   "source": [
    "### A fifth time"
   ]
  },
  {
   "cell_type": "code",
   "execution_count": null,
   "metadata": {},
   "outputs": [],
   "source": [
    "one_iteration(G)\n",
    "plot(G)"
   ]
  },
  {
   "cell_type": "markdown",
   "metadata": {},
   "source": [
    "### A sixth time"
   ]
  },
  {
   "cell_type": "code",
   "execution_count": null,
   "metadata": {},
   "outputs": [],
   "source": [
    "one_iteration(G)\n",
    "plot(G)"
   ]
  },
  {
   "cell_type": "markdown",
   "metadata": {},
   "source": [
    "What you can see is that we are starting to converge (i.e., we are being pulled together). $d$ has a direct affect on how fast we converge. But too high of $d$ and we might not converge correctly. Let's create a graphic that shows how the scores change as the number of iterations change."
   ]
  },
  {
   "cell_type": "code",
   "execution_count": null,
   "metadata": {},
   "outputs": [],
   "source": [
    "import ipywidgets as widgets\n",
    "from ipywidgets import interact, interact_manual"
   ]
  },
  {
   "cell_type": "code",
   "execution_count": null,
   "metadata": {},
   "outputs": [],
   "source": [
    "@interact\n",
    "def return_plot(iterations=(1,20,1)):\n",
    "    G = nx.DiGraph()\n",
    "    N = 5\n",
    "\n",
    "    # We first add the nodes each with a page rank score of 1/N (i.e., all scores sum to 1)\n",
    "    G.add_node('a', score=1/N)\n",
    "    G.add_node('b', score=1/N)\n",
    "    G.add_node('c', score=1/N)\n",
    "    G.add_node('d', score=1/N)\n",
    "    G.add_node('e', score=1/N)\n",
    "\n",
    "    # We then create this specific example\n",
    "    G.add_edge('a', 'b')\n",
    "    G.add_edge('b', 'a')\n",
    "    G.add_edge('a', 'c')\n",
    "    G.add_edge('c', 'a')\n",
    "    G.add_edge('a', 'd')\n",
    "    G.add_edge('d', 'a')\n",
    "    G.add_edge('a','e')\n",
    "\n",
    "    for iteration in range(iterations):\n",
    "        one_iteration(G)\n",
    "    return plot(G)"
   ]
  },
  {
   "cell_type": "markdown",
   "metadata": {},
   "source": [
    "## Another example (cycle)"
   ]
  },
  {
   "cell_type": "code",
   "execution_count": null,
   "metadata": {},
   "outputs": [],
   "source": [
    "@interact\n",
    "def return_plot(iterations=(1,20,1)):\n",
    "    G = nx.DiGraph()\n",
    "    N=3\n",
    "    G.add_node('a', score=1/N)\n",
    "    G.add_node('b', score=1/N)\n",
    "    G.add_node('c', score=1/N)\n",
    "\n",
    "    G.add_edge('a', 'b')\n",
    "    G.add_edge('b', 'c')\n",
    "    G.add_edge('c', 'a')\n",
    "\n",
    "    for iteration in range(iterations):\n",
    "        one_iteration(G)\n",
    "    return plot(G)"
   ]
  },
  {
   "cell_type": "markdown",
   "metadata": {},
   "source": [
    "## Stop and question\n",
    "Why does changing the number of iterations have no effect?"
   ]
  },
  {
   "cell_type": "markdown",
   "metadata": {},
   "source": [
    "**Final thoughts:** There are many many improvements that could be made to the algorithm above, but the intuition behind those different algorithms is the same :)"
   ]
  },
  {
   "cell_type": "code",
   "execution_count": null,
   "metadata": {},
   "outputs": [],
   "source": []
  }
 ],
 "metadata": {
  "kernelspec": {
   "display_name": "Python 3",
   "language": "python",
   "name": "python3"
  },
  "language_info": {
   "codemirror_mode": {
    "name": "ipython",
    "version": 3
   },
   "file_extension": ".py",
   "mimetype": "text/x-python",
   "name": "python",
   "nbconvert_exporter": "python",
   "pygments_lexer": "ipython3",
   "version": "3.7.3"
  }
 },
 "nbformat": 4,
 "nbformat_minor": 4
}
